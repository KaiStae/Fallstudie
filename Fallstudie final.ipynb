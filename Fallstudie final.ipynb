{
 "cells": [
  {
   "cell_type": "markdown",
   "metadata": {},
   "source": [
    "# CSV-Datei importieren"
   ]
  },
  {
   "cell_type": "code",
   "execution_count": 24,
   "metadata": {},
   "outputs": [],
   "source": [
    "import pandas as pd\n",
    "import numpy as np"
   ]
  },
  {
   "cell_type": "code",
   "execution_count": 25,
   "metadata": {},
   "outputs": [
    {
     "name": "stdout",
     "output_type": "stream",
     "text": [
      "       Unnamed: 0  BOROUGH   NEIGHBORHOOD  \\\n",
      "0               4        1  ALPHABET CITY   \n",
      "1               5        1  ALPHABET CITY   \n",
      "2               6        1  ALPHABET CITY   \n",
      "3               7        1  ALPHABET CITY   \n",
      "4               8        1  ALPHABET CITY   \n",
      "...           ...      ...            ...   \n",
      "84543        8409        5        WOODROW   \n",
      "84544        8410        5        WOODROW   \n",
      "84545        8411        5        WOODROW   \n",
      "84546        8412        5        WOODROW   \n",
      "84547        8413        5        WOODROW   \n",
      "\n",
      "                           BUILDING CLASS CATEGORY TAX CLASS AT PRESENT  \\\n",
      "0      07 RENTALS - WALKUP APARTMENTS                                2A   \n",
      "1      07 RENTALS - WALKUP APARTMENTS                                 2   \n",
      "2      07 RENTALS - WALKUP APARTMENTS                                 2   \n",
      "3      07 RENTALS - WALKUP APARTMENTS                                2B   \n",
      "4      07 RENTALS - WALKUP APARTMENTS                                2A   \n",
      "...                                            ...                  ...   \n",
      "84543  02 TWO FAMILY DWELLINGS                                        1   \n",
      "84544  02 TWO FAMILY DWELLINGS                                        1   \n",
      "84545  02 TWO FAMILY DWELLINGS                                        1   \n",
      "84546  22 STORE BUILDINGS                                             4   \n",
      "84547  35 INDOOR PUBLIC AND CULTURAL FACILITIES                       4   \n",
      "\n",
      "       BLOCK  LOT EASE-MENT BUILDING CLASS AT PRESENT                 ADDRESS  \\\n",
      "0        392    6                                  C2            153 AVENUE B   \n",
      "1        399   26                                  C7   234 EAST 4TH   STREET   \n",
      "2        399   39                                  C7   197 EAST 3RD   STREET   \n",
      "3        402   21                                  C4     154 EAST 7TH STREET   \n",
      "4        404   55                                  C2  301 EAST 10TH   STREET   \n",
      "...      ...  ...       ...                       ...                     ...   \n",
      "84543   7349   34                                  B9           37 QUAIL LANE   \n",
      "84544   7349   78                                  B9        32 PHEASANT LANE   \n",
      "84545   7351   60                                  B2        49 PITNEY AVENUE   \n",
      "84546   7100   28                                  K6   2730 ARTHUR KILL ROAD   \n",
      "84547   7105  679                                  P9       155 CLAY PIT ROAD   \n",
      "\n",
      "      APARTMENT NUMBER  ZIP CODE  RESIDENTIAL UNITS  COMMERCIAL UNITS  \\\n",
      "0                          10009                  5                 0   \n",
      "1                          10009                 28                 3   \n",
      "2                          10009                 16                 1   \n",
      "3                          10009                 10                 0   \n",
      "4                          10009                  6                 0   \n",
      "...                ...       ...                ...               ...   \n",
      "84543                      10309                  2                 0   \n",
      "84544                      10309                  2                 0   \n",
      "84545                      10309                  2                 0   \n",
      "84546                      10309                  0                 7   \n",
      "84547                      10309                  0                 1   \n",
      "\n",
      "       TOTAL UNITS LAND SQUARE FEET GROSS SQUARE FEET  YEAR BUILT  \\\n",
      "0                5             1633              6440        1900   \n",
      "1               31             4616             18690        1900   \n",
      "2               17             2212              7803        1900   \n",
      "3               10             2272              6794        1913   \n",
      "4                6             2369              4615        1900   \n",
      "...            ...              ...               ...         ...   \n",
      "84543            2             2400              2575        1998   \n",
      "84544            2             2498              2377        1998   \n",
      "84545            2             4000              1496        1925   \n",
      "84546            7           208033             64117        2001   \n",
      "84547            1            10796              2400        2006   \n",
      "\n",
      "       TAX CLASS AT TIME OF SALE BUILDING CLASS AT TIME OF SALE SALE PRICE  \\\n",
      "0                              2                             C2    6625000   \n",
      "1                              2                             C7        -     \n",
      "2                              2                             C7        -     \n",
      "3                              2                             C4    3936272   \n",
      "4                              2                             C2    8000000   \n",
      "...                          ...                            ...        ...   \n",
      "84543                          1                             B9     450000   \n",
      "84544                          1                             B9     550000   \n",
      "84545                          1                             B2     460000   \n",
      "84546                          4                             K6   11693337   \n",
      "84547                          4                             P9      69300   \n",
      "\n",
      "                 SALE DATE  \n",
      "0      2017-07-19 00:00:00  \n",
      "1      2016-12-14 00:00:00  \n",
      "2      2016-12-09 00:00:00  \n",
      "3      2016-09-23 00:00:00  \n",
      "4      2016-11-17 00:00:00  \n",
      "...                    ...  \n",
      "84543  2016-11-28 00:00:00  \n",
      "84544  2017-04-21 00:00:00  \n",
      "84545  2017-07-05 00:00:00  \n",
      "84546  2016-12-21 00:00:00  \n",
      "84547  2016-10-27 00:00:00  \n",
      "\n",
      "[84548 rows x 22 columns]\n"
     ]
    }
   ],
   "source": [
    "rolling_sales_df = pd.read_csv(\"nyc-rolling-sales.csv\")\n",
    "\n",
    "print(rolling_sales_df)"
   ]
  },
  {
   "cell_type": "markdown",
   "metadata": {},
   "source": [
    "## Alle Spalten anzeigen"
   ]
  },
  {
   "cell_type": "code",
   "execution_count": 26,
   "metadata": {},
   "outputs": [
    {
     "data": {
      "text/html": [
       "<div>\n",
       "<style scoped>\n",
       "    .dataframe tbody tr th:only-of-type {\n",
       "        vertical-align: middle;\n",
       "    }\n",
       "\n",
       "    .dataframe tbody tr th {\n",
       "        vertical-align: top;\n",
       "    }\n",
       "\n",
       "    .dataframe thead th {\n",
       "        text-align: right;\n",
       "    }\n",
       "</style>\n",
       "<table border=\"1\" class=\"dataframe\">\n",
       "  <thead>\n",
       "    <tr style=\"text-align: right;\">\n",
       "      <th></th>\n",
       "      <th>Unnamed: 0</th>\n",
       "      <th>BOROUGH</th>\n",
       "      <th>NEIGHBORHOOD</th>\n",
       "      <th>BUILDING CLASS CATEGORY</th>\n",
       "      <th>TAX CLASS AT PRESENT</th>\n",
       "      <th>BLOCK</th>\n",
       "      <th>LOT</th>\n",
       "      <th>EASE-MENT</th>\n",
       "      <th>BUILDING CLASS AT PRESENT</th>\n",
       "      <th>ADDRESS</th>\n",
       "      <th>APARTMENT NUMBER</th>\n",
       "      <th>ZIP CODE</th>\n",
       "      <th>RESIDENTIAL UNITS</th>\n",
       "      <th>COMMERCIAL UNITS</th>\n",
       "      <th>TOTAL UNITS</th>\n",
       "      <th>LAND SQUARE FEET</th>\n",
       "      <th>GROSS SQUARE FEET</th>\n",
       "      <th>YEAR BUILT</th>\n",
       "      <th>TAX CLASS AT TIME OF SALE</th>\n",
       "      <th>BUILDING CLASS AT TIME OF SALE</th>\n",
       "      <th>SALE PRICE</th>\n",
       "      <th>SALE DATE</th>\n",
       "    </tr>\n",
       "  </thead>\n",
       "  <tbody>\n",
       "    <tr>\n",
       "      <th>0</th>\n",
       "      <td>4</td>\n",
       "      <td>1</td>\n",
       "      <td>ALPHABET CITY</td>\n",
       "      <td>07 RENTALS - WALKUP APARTMENTS</td>\n",
       "      <td>2A</td>\n",
       "      <td>392</td>\n",
       "      <td>6</td>\n",
       "      <td></td>\n",
       "      <td>C2</td>\n",
       "      <td>153 AVENUE B</td>\n",
       "      <td></td>\n",
       "      <td>10009</td>\n",
       "      <td>5</td>\n",
       "      <td>0</td>\n",
       "      <td>5</td>\n",
       "      <td>1633</td>\n",
       "      <td>6440</td>\n",
       "      <td>1900</td>\n",
       "      <td>2</td>\n",
       "      <td>C2</td>\n",
       "      <td>6625000</td>\n",
       "      <td>2017-07-19 00:00:00</td>\n",
       "    </tr>\n",
       "    <tr>\n",
       "      <th>1</th>\n",
       "      <td>5</td>\n",
       "      <td>1</td>\n",
       "      <td>ALPHABET CITY</td>\n",
       "      <td>07 RENTALS - WALKUP APARTMENTS</td>\n",
       "      <td>2</td>\n",
       "      <td>399</td>\n",
       "      <td>26</td>\n",
       "      <td></td>\n",
       "      <td>C7</td>\n",
       "      <td>234 EAST 4TH   STREET</td>\n",
       "      <td></td>\n",
       "      <td>10009</td>\n",
       "      <td>28</td>\n",
       "      <td>3</td>\n",
       "      <td>31</td>\n",
       "      <td>4616</td>\n",
       "      <td>18690</td>\n",
       "      <td>1900</td>\n",
       "      <td>2</td>\n",
       "      <td>C7</td>\n",
       "      <td>-</td>\n",
       "      <td>2016-12-14 00:00:00</td>\n",
       "    </tr>\n",
       "    <tr>\n",
       "      <th>2</th>\n",
       "      <td>6</td>\n",
       "      <td>1</td>\n",
       "      <td>ALPHABET CITY</td>\n",
       "      <td>07 RENTALS - WALKUP APARTMENTS</td>\n",
       "      <td>2</td>\n",
       "      <td>399</td>\n",
       "      <td>39</td>\n",
       "      <td></td>\n",
       "      <td>C7</td>\n",
       "      <td>197 EAST 3RD   STREET</td>\n",
       "      <td></td>\n",
       "      <td>10009</td>\n",
       "      <td>16</td>\n",
       "      <td>1</td>\n",
       "      <td>17</td>\n",
       "      <td>2212</td>\n",
       "      <td>7803</td>\n",
       "      <td>1900</td>\n",
       "      <td>2</td>\n",
       "      <td>C7</td>\n",
       "      <td>-</td>\n",
       "      <td>2016-12-09 00:00:00</td>\n",
       "    </tr>\n",
       "    <tr>\n",
       "      <th>3</th>\n",
       "      <td>7</td>\n",
       "      <td>1</td>\n",
       "      <td>ALPHABET CITY</td>\n",
       "      <td>07 RENTALS - WALKUP APARTMENTS</td>\n",
       "      <td>2B</td>\n",
       "      <td>402</td>\n",
       "      <td>21</td>\n",
       "      <td></td>\n",
       "      <td>C4</td>\n",
       "      <td>154 EAST 7TH STREET</td>\n",
       "      <td></td>\n",
       "      <td>10009</td>\n",
       "      <td>10</td>\n",
       "      <td>0</td>\n",
       "      <td>10</td>\n",
       "      <td>2272</td>\n",
       "      <td>6794</td>\n",
       "      <td>1913</td>\n",
       "      <td>2</td>\n",
       "      <td>C4</td>\n",
       "      <td>3936272</td>\n",
       "      <td>2016-09-23 00:00:00</td>\n",
       "    </tr>\n",
       "    <tr>\n",
       "      <th>4</th>\n",
       "      <td>8</td>\n",
       "      <td>1</td>\n",
       "      <td>ALPHABET CITY</td>\n",
       "      <td>07 RENTALS - WALKUP APARTMENTS</td>\n",
       "      <td>2A</td>\n",
       "      <td>404</td>\n",
       "      <td>55</td>\n",
       "      <td></td>\n",
       "      <td>C2</td>\n",
       "      <td>301 EAST 10TH   STREET</td>\n",
       "      <td></td>\n",
       "      <td>10009</td>\n",
       "      <td>6</td>\n",
       "      <td>0</td>\n",
       "      <td>6</td>\n",
       "      <td>2369</td>\n",
       "      <td>4615</td>\n",
       "      <td>1900</td>\n",
       "      <td>2</td>\n",
       "      <td>C2</td>\n",
       "      <td>8000000</td>\n",
       "      <td>2016-11-17 00:00:00</td>\n",
       "    </tr>\n",
       "    <tr>\n",
       "      <th>...</th>\n",
       "      <td>...</td>\n",
       "      <td>...</td>\n",
       "      <td>...</td>\n",
       "      <td>...</td>\n",
       "      <td>...</td>\n",
       "      <td>...</td>\n",
       "      <td>...</td>\n",
       "      <td>...</td>\n",
       "      <td>...</td>\n",
       "      <td>...</td>\n",
       "      <td>...</td>\n",
       "      <td>...</td>\n",
       "      <td>...</td>\n",
       "      <td>...</td>\n",
       "      <td>...</td>\n",
       "      <td>...</td>\n",
       "      <td>...</td>\n",
       "      <td>...</td>\n",
       "      <td>...</td>\n",
       "      <td>...</td>\n",
       "      <td>...</td>\n",
       "      <td>...</td>\n",
       "    </tr>\n",
       "    <tr>\n",
       "      <th>84543</th>\n",
       "      <td>8409</td>\n",
       "      <td>5</td>\n",
       "      <td>WOODROW</td>\n",
       "      <td>02 TWO FAMILY DWELLINGS</td>\n",
       "      <td>1</td>\n",
       "      <td>7349</td>\n",
       "      <td>34</td>\n",
       "      <td></td>\n",
       "      <td>B9</td>\n",
       "      <td>37 QUAIL LANE</td>\n",
       "      <td></td>\n",
       "      <td>10309</td>\n",
       "      <td>2</td>\n",
       "      <td>0</td>\n",
       "      <td>2</td>\n",
       "      <td>2400</td>\n",
       "      <td>2575</td>\n",
       "      <td>1998</td>\n",
       "      <td>1</td>\n",
       "      <td>B9</td>\n",
       "      <td>450000</td>\n",
       "      <td>2016-11-28 00:00:00</td>\n",
       "    </tr>\n",
       "    <tr>\n",
       "      <th>84544</th>\n",
       "      <td>8410</td>\n",
       "      <td>5</td>\n",
       "      <td>WOODROW</td>\n",
       "      <td>02 TWO FAMILY DWELLINGS</td>\n",
       "      <td>1</td>\n",
       "      <td>7349</td>\n",
       "      <td>78</td>\n",
       "      <td></td>\n",
       "      <td>B9</td>\n",
       "      <td>32 PHEASANT LANE</td>\n",
       "      <td></td>\n",
       "      <td>10309</td>\n",
       "      <td>2</td>\n",
       "      <td>0</td>\n",
       "      <td>2</td>\n",
       "      <td>2498</td>\n",
       "      <td>2377</td>\n",
       "      <td>1998</td>\n",
       "      <td>1</td>\n",
       "      <td>B9</td>\n",
       "      <td>550000</td>\n",
       "      <td>2017-04-21 00:00:00</td>\n",
       "    </tr>\n",
       "    <tr>\n",
       "      <th>84545</th>\n",
       "      <td>8411</td>\n",
       "      <td>5</td>\n",
       "      <td>WOODROW</td>\n",
       "      <td>02 TWO FAMILY DWELLINGS</td>\n",
       "      <td>1</td>\n",
       "      <td>7351</td>\n",
       "      <td>60</td>\n",
       "      <td></td>\n",
       "      <td>B2</td>\n",
       "      <td>49 PITNEY AVENUE</td>\n",
       "      <td></td>\n",
       "      <td>10309</td>\n",
       "      <td>2</td>\n",
       "      <td>0</td>\n",
       "      <td>2</td>\n",
       "      <td>4000</td>\n",
       "      <td>1496</td>\n",
       "      <td>1925</td>\n",
       "      <td>1</td>\n",
       "      <td>B2</td>\n",
       "      <td>460000</td>\n",
       "      <td>2017-07-05 00:00:00</td>\n",
       "    </tr>\n",
       "    <tr>\n",
       "      <th>84546</th>\n",
       "      <td>8412</td>\n",
       "      <td>5</td>\n",
       "      <td>WOODROW</td>\n",
       "      <td>22 STORE BUILDINGS</td>\n",
       "      <td>4</td>\n",
       "      <td>7100</td>\n",
       "      <td>28</td>\n",
       "      <td></td>\n",
       "      <td>K6</td>\n",
       "      <td>2730 ARTHUR KILL ROAD</td>\n",
       "      <td></td>\n",
       "      <td>10309</td>\n",
       "      <td>0</td>\n",
       "      <td>7</td>\n",
       "      <td>7</td>\n",
       "      <td>208033</td>\n",
       "      <td>64117</td>\n",
       "      <td>2001</td>\n",
       "      <td>4</td>\n",
       "      <td>K6</td>\n",
       "      <td>11693337</td>\n",
       "      <td>2016-12-21 00:00:00</td>\n",
       "    </tr>\n",
       "    <tr>\n",
       "      <th>84547</th>\n",
       "      <td>8413</td>\n",
       "      <td>5</td>\n",
       "      <td>WOODROW</td>\n",
       "      <td>35 INDOOR PUBLIC AND CULTURAL FACILITIES</td>\n",
       "      <td>4</td>\n",
       "      <td>7105</td>\n",
       "      <td>679</td>\n",
       "      <td></td>\n",
       "      <td>P9</td>\n",
       "      <td>155 CLAY PIT ROAD</td>\n",
       "      <td></td>\n",
       "      <td>10309</td>\n",
       "      <td>0</td>\n",
       "      <td>1</td>\n",
       "      <td>1</td>\n",
       "      <td>10796</td>\n",
       "      <td>2400</td>\n",
       "      <td>2006</td>\n",
       "      <td>4</td>\n",
       "      <td>P9</td>\n",
       "      <td>69300</td>\n",
       "      <td>2016-10-27 00:00:00</td>\n",
       "    </tr>\n",
       "  </tbody>\n",
       "</table>\n",
       "<p>84548 rows × 22 columns</p>\n",
       "</div>"
      ],
      "text/plain": [
       "       Unnamed: 0  BOROUGH   NEIGHBORHOOD  \\\n",
       "0               4        1  ALPHABET CITY   \n",
       "1               5        1  ALPHABET CITY   \n",
       "2               6        1  ALPHABET CITY   \n",
       "3               7        1  ALPHABET CITY   \n",
       "4               8        1  ALPHABET CITY   \n",
       "...           ...      ...            ...   \n",
       "84543        8409        5        WOODROW   \n",
       "84544        8410        5        WOODROW   \n",
       "84545        8411        5        WOODROW   \n",
       "84546        8412        5        WOODROW   \n",
       "84547        8413        5        WOODROW   \n",
       "\n",
       "                           BUILDING CLASS CATEGORY TAX CLASS AT PRESENT  \\\n",
       "0      07 RENTALS - WALKUP APARTMENTS                                2A   \n",
       "1      07 RENTALS - WALKUP APARTMENTS                                 2   \n",
       "2      07 RENTALS - WALKUP APARTMENTS                                 2   \n",
       "3      07 RENTALS - WALKUP APARTMENTS                                2B   \n",
       "4      07 RENTALS - WALKUP APARTMENTS                                2A   \n",
       "...                                            ...                  ...   \n",
       "84543  02 TWO FAMILY DWELLINGS                                        1   \n",
       "84544  02 TWO FAMILY DWELLINGS                                        1   \n",
       "84545  02 TWO FAMILY DWELLINGS                                        1   \n",
       "84546  22 STORE BUILDINGS                                             4   \n",
       "84547  35 INDOOR PUBLIC AND CULTURAL FACILITIES                       4   \n",
       "\n",
       "       BLOCK  LOT EASE-MENT BUILDING CLASS AT PRESENT                 ADDRESS  \\\n",
       "0        392    6                                  C2            153 AVENUE B   \n",
       "1        399   26                                  C7   234 EAST 4TH   STREET   \n",
       "2        399   39                                  C7   197 EAST 3RD   STREET   \n",
       "3        402   21                                  C4     154 EAST 7TH STREET   \n",
       "4        404   55                                  C2  301 EAST 10TH   STREET   \n",
       "...      ...  ...       ...                       ...                     ...   \n",
       "84543   7349   34                                  B9           37 QUAIL LANE   \n",
       "84544   7349   78                                  B9        32 PHEASANT LANE   \n",
       "84545   7351   60                                  B2        49 PITNEY AVENUE   \n",
       "84546   7100   28                                  K6   2730 ARTHUR KILL ROAD   \n",
       "84547   7105  679                                  P9       155 CLAY PIT ROAD   \n",
       "\n",
       "      APARTMENT NUMBER  ZIP CODE  RESIDENTIAL UNITS  COMMERCIAL UNITS  \\\n",
       "0                          10009                  5                 0   \n",
       "1                          10009                 28                 3   \n",
       "2                          10009                 16                 1   \n",
       "3                          10009                 10                 0   \n",
       "4                          10009                  6                 0   \n",
       "...                ...       ...                ...               ...   \n",
       "84543                      10309                  2                 0   \n",
       "84544                      10309                  2                 0   \n",
       "84545                      10309                  2                 0   \n",
       "84546                      10309                  0                 7   \n",
       "84547                      10309                  0                 1   \n",
       "\n",
       "       TOTAL UNITS LAND SQUARE FEET GROSS SQUARE FEET  YEAR BUILT  \\\n",
       "0                5             1633              6440        1900   \n",
       "1               31             4616             18690        1900   \n",
       "2               17             2212              7803        1900   \n",
       "3               10             2272              6794        1913   \n",
       "4                6             2369              4615        1900   \n",
       "...            ...              ...               ...         ...   \n",
       "84543            2             2400              2575        1998   \n",
       "84544            2             2498              2377        1998   \n",
       "84545            2             4000              1496        1925   \n",
       "84546            7           208033             64117        2001   \n",
       "84547            1            10796              2400        2006   \n",
       "\n",
       "       TAX CLASS AT TIME OF SALE BUILDING CLASS AT TIME OF SALE SALE PRICE  \\\n",
       "0                              2                             C2    6625000   \n",
       "1                              2                             C7        -     \n",
       "2                              2                             C7        -     \n",
       "3                              2                             C4    3936272   \n",
       "4                              2                             C2    8000000   \n",
       "...                          ...                            ...        ...   \n",
       "84543                          1                             B9     450000   \n",
       "84544                          1                             B9     550000   \n",
       "84545                          1                             B2     460000   \n",
       "84546                          4                             K6   11693337   \n",
       "84547                          4                             P9      69300   \n",
       "\n",
       "                 SALE DATE  \n",
       "0      2017-07-19 00:00:00  \n",
       "1      2016-12-14 00:00:00  \n",
       "2      2016-12-09 00:00:00  \n",
       "3      2016-09-23 00:00:00  \n",
       "4      2016-11-17 00:00:00  \n",
       "...                    ...  \n",
       "84543  2016-11-28 00:00:00  \n",
       "84544  2017-04-21 00:00:00  \n",
       "84545  2017-07-05 00:00:00  \n",
       "84546  2016-12-21 00:00:00  \n",
       "84547  2016-10-27 00:00:00  \n",
       "\n",
       "[84548 rows x 22 columns]"
      ]
     },
     "metadata": {},
     "output_type": "display_data"
    }
   ],
   "source": [
    "pd.options.display.max_columns = None \n",
    "display(rolling_sales_df) "
   ]
  },
  {
   "cell_type": "markdown",
   "metadata": {},
   "source": [
    "## Anzahl der Verkäufe"
   ]
  },
  {
   "cell_type": "code",
   "execution_count": 27,
   "metadata": {},
   "outputs": [
    {
     "name": "stdout",
     "output_type": "stream",
     "text": [
      "Es wurden 84548 Verkäufe verzeichnet.\n"
     ]
    }
   ],
   "source": [
    "N = len(rolling_sales_df)\n",
    "print(\"Es wurden\", N,\"Verkäufe verzeichnet.\")"
   ]
  },
  {
   "cell_type": "code",
   "execution_count": 28,
   "metadata": {},
   "outputs": [
    {
     "data": {
      "text/html": [
       "<div>\n",
       "<style scoped>\n",
       "    .dataframe tbody tr th:only-of-type {\n",
       "        vertical-align: middle;\n",
       "    }\n",
       "\n",
       "    .dataframe tbody tr th {\n",
       "        vertical-align: top;\n",
       "    }\n",
       "\n",
       "    .dataframe thead th {\n",
       "        text-align: right;\n",
       "    }\n",
       "</style>\n",
       "<table border=\"1\" class=\"dataframe\">\n",
       "  <thead>\n",
       "    <tr style=\"text-align: right;\">\n",
       "      <th></th>\n",
       "      <th>Unnamed: 0</th>\n",
       "      <th>BOROUGH</th>\n",
       "      <th>NEIGHBORHOOD</th>\n",
       "      <th>BUILDING CLASS CATEGORY</th>\n",
       "      <th>TAX CLASS AT PRESENT</th>\n",
       "      <th>BLOCK</th>\n",
       "      <th>LOT</th>\n",
       "      <th>EASE-MENT</th>\n",
       "      <th>BUILDING CLASS AT PRESENT</th>\n",
       "      <th>ADDRESS</th>\n",
       "      <th>APARTMENT NUMBER</th>\n",
       "      <th>ZIP CODE</th>\n",
       "      <th>RESIDENTIAL UNITS</th>\n",
       "      <th>COMMERCIAL UNITS</th>\n",
       "      <th>TOTAL UNITS</th>\n",
       "      <th>LAND SQUARE FEET</th>\n",
       "      <th>GROSS SQUARE FEET</th>\n",
       "      <th>YEAR BUILT</th>\n",
       "      <th>TAX CLASS AT TIME OF SALE</th>\n",
       "      <th>BUILDING CLASS AT TIME OF SALE</th>\n",
       "      <th>SALE PRICE</th>\n",
       "      <th>SALE DATE</th>\n",
       "    </tr>\n",
       "  </thead>\n",
       "  <tbody>\n",
       "    <tr>\n",
       "      <th>0</th>\n",
       "      <td>4</td>\n",
       "      <td>1</td>\n",
       "      <td>ALPHABET CITY</td>\n",
       "      <td>07 RENTALS - WALKUP APARTMENTS</td>\n",
       "      <td>2A</td>\n",
       "      <td>392</td>\n",
       "      <td>6</td>\n",
       "      <td></td>\n",
       "      <td>C2</td>\n",
       "      <td>153 AVENUE B</td>\n",
       "      <td></td>\n",
       "      <td>10009</td>\n",
       "      <td>5</td>\n",
       "      <td>0</td>\n",
       "      <td>5</td>\n",
       "      <td>1633</td>\n",
       "      <td>6440</td>\n",
       "      <td>1900</td>\n",
       "      <td>2</td>\n",
       "      <td>C2</td>\n",
       "      <td>6625000</td>\n",
       "      <td>2017-07-19 00:00:00</td>\n",
       "    </tr>\n",
       "    <tr>\n",
       "      <th>1</th>\n",
       "      <td>5</td>\n",
       "      <td>1</td>\n",
       "      <td>ALPHABET CITY</td>\n",
       "      <td>07 RENTALS - WALKUP APARTMENTS</td>\n",
       "      <td>2</td>\n",
       "      <td>399</td>\n",
       "      <td>26</td>\n",
       "      <td></td>\n",
       "      <td>C7</td>\n",
       "      <td>234 EAST 4TH   STREET</td>\n",
       "      <td></td>\n",
       "      <td>10009</td>\n",
       "      <td>28</td>\n",
       "      <td>3</td>\n",
       "      <td>31</td>\n",
       "      <td>4616</td>\n",
       "      <td>18690</td>\n",
       "      <td>1900</td>\n",
       "      <td>2</td>\n",
       "      <td>C7</td>\n",
       "      <td>-</td>\n",
       "      <td>2016-12-14 00:00:00</td>\n",
       "    </tr>\n",
       "    <tr>\n",
       "      <th>2</th>\n",
       "      <td>6</td>\n",
       "      <td>1</td>\n",
       "      <td>ALPHABET CITY</td>\n",
       "      <td>07 RENTALS - WALKUP APARTMENTS</td>\n",
       "      <td>2</td>\n",
       "      <td>399</td>\n",
       "      <td>39</td>\n",
       "      <td></td>\n",
       "      <td>C7</td>\n",
       "      <td>197 EAST 3RD   STREET</td>\n",
       "      <td></td>\n",
       "      <td>10009</td>\n",
       "      <td>16</td>\n",
       "      <td>1</td>\n",
       "      <td>17</td>\n",
       "      <td>2212</td>\n",
       "      <td>7803</td>\n",
       "      <td>1900</td>\n",
       "      <td>2</td>\n",
       "      <td>C7</td>\n",
       "      <td>-</td>\n",
       "      <td>2016-12-09 00:00:00</td>\n",
       "    </tr>\n",
       "    <tr>\n",
       "      <th>3</th>\n",
       "      <td>7</td>\n",
       "      <td>1</td>\n",
       "      <td>ALPHABET CITY</td>\n",
       "      <td>07 RENTALS - WALKUP APARTMENTS</td>\n",
       "      <td>2B</td>\n",
       "      <td>402</td>\n",
       "      <td>21</td>\n",
       "      <td></td>\n",
       "      <td>C4</td>\n",
       "      <td>154 EAST 7TH STREET</td>\n",
       "      <td></td>\n",
       "      <td>10009</td>\n",
       "      <td>10</td>\n",
       "      <td>0</td>\n",
       "      <td>10</td>\n",
       "      <td>2272</td>\n",
       "      <td>6794</td>\n",
       "      <td>1913</td>\n",
       "      <td>2</td>\n",
       "      <td>C4</td>\n",
       "      <td>3936272</td>\n",
       "      <td>2016-09-23 00:00:00</td>\n",
       "    </tr>\n",
       "    <tr>\n",
       "      <th>4</th>\n",
       "      <td>8</td>\n",
       "      <td>1</td>\n",
       "      <td>ALPHABET CITY</td>\n",
       "      <td>07 RENTALS - WALKUP APARTMENTS</td>\n",
       "      <td>2A</td>\n",
       "      <td>404</td>\n",
       "      <td>55</td>\n",
       "      <td></td>\n",
       "      <td>C2</td>\n",
       "      <td>301 EAST 10TH   STREET</td>\n",
       "      <td></td>\n",
       "      <td>10009</td>\n",
       "      <td>6</td>\n",
       "      <td>0</td>\n",
       "      <td>6</td>\n",
       "      <td>2369</td>\n",
       "      <td>4615</td>\n",
       "      <td>1900</td>\n",
       "      <td>2</td>\n",
       "      <td>C2</td>\n",
       "      <td>8000000</td>\n",
       "      <td>2016-11-17 00:00:00</td>\n",
       "    </tr>\n",
       "  </tbody>\n",
       "</table>\n",
       "</div>"
      ],
      "text/plain": [
       "   Unnamed: 0  BOROUGH   NEIGHBORHOOD  \\\n",
       "0           4        1  ALPHABET CITY   \n",
       "1           5        1  ALPHABET CITY   \n",
       "2           6        1  ALPHABET CITY   \n",
       "3           7        1  ALPHABET CITY   \n",
       "4           8        1  ALPHABET CITY   \n",
       "\n",
       "                       BUILDING CLASS CATEGORY TAX CLASS AT PRESENT  BLOCK  \\\n",
       "0  07 RENTALS - WALKUP APARTMENTS                                2A    392   \n",
       "1  07 RENTALS - WALKUP APARTMENTS                                 2    399   \n",
       "2  07 RENTALS - WALKUP APARTMENTS                                 2    399   \n",
       "3  07 RENTALS - WALKUP APARTMENTS                                2B    402   \n",
       "4  07 RENTALS - WALKUP APARTMENTS                                2A    404   \n",
       "\n",
       "   LOT EASE-MENT BUILDING CLASS AT PRESENT                 ADDRESS  \\\n",
       "0    6                                  C2            153 AVENUE B   \n",
       "1   26                                  C7   234 EAST 4TH   STREET   \n",
       "2   39                                  C7   197 EAST 3RD   STREET   \n",
       "3   21                                  C4     154 EAST 7TH STREET   \n",
       "4   55                                  C2  301 EAST 10TH   STREET   \n",
       "\n",
       "  APARTMENT NUMBER  ZIP CODE  RESIDENTIAL UNITS  COMMERCIAL UNITS  \\\n",
       "0                      10009                  5                 0   \n",
       "1                      10009                 28                 3   \n",
       "2                      10009                 16                 1   \n",
       "3                      10009                 10                 0   \n",
       "4                      10009                  6                 0   \n",
       "\n",
       "   TOTAL UNITS LAND SQUARE FEET GROSS SQUARE FEET  YEAR BUILT  \\\n",
       "0            5             1633              6440        1900   \n",
       "1           31             4616             18690        1900   \n",
       "2           17             2212              7803        1900   \n",
       "3           10             2272              6794        1913   \n",
       "4            6             2369              4615        1900   \n",
       "\n",
       "   TAX CLASS AT TIME OF SALE BUILDING CLASS AT TIME OF SALE SALE PRICE  \\\n",
       "0                          2                             C2    6625000   \n",
       "1                          2                             C7        -     \n",
       "2                          2                             C7        -     \n",
       "3                          2                             C4    3936272   \n",
       "4                          2                             C2    8000000   \n",
       "\n",
       "             SALE DATE  \n",
       "0  2017-07-19 00:00:00  \n",
       "1  2016-12-14 00:00:00  \n",
       "2  2016-12-09 00:00:00  \n",
       "3  2016-09-23 00:00:00  \n",
       "4  2016-11-17 00:00:00  "
      ]
     },
     "execution_count": 28,
     "metadata": {},
     "output_type": "execute_result"
    }
   ],
   "source": [
    "rolling_sales_df.head() #Erste 5 Zeilen anzeigen für die Übersichtlichkeit"
   ]
  },
  {
   "cell_type": "markdown",
   "metadata": {},
   "source": [
    "# Datentypen anzeigen"
   ]
  },
  {
   "cell_type": "code",
   "execution_count": 29,
   "metadata": {},
   "outputs": [
    {
     "data": {
      "text/plain": [
       "Unnamed: 0                         int64\n",
       "BOROUGH                            int64\n",
       "NEIGHBORHOOD                      object\n",
       "BUILDING CLASS CATEGORY           object\n",
       "TAX CLASS AT PRESENT              object\n",
       "BLOCK                              int64\n",
       "LOT                                int64\n",
       "EASE-MENT                         object\n",
       "BUILDING CLASS AT PRESENT         object\n",
       "ADDRESS                           object\n",
       "APARTMENT NUMBER                  object\n",
       "ZIP CODE                           int64\n",
       "RESIDENTIAL UNITS                  int64\n",
       "COMMERCIAL UNITS                   int64\n",
       "TOTAL UNITS                        int64\n",
       "LAND SQUARE FEET                  object\n",
       "GROSS SQUARE FEET                 object\n",
       "YEAR BUILT                         int64\n",
       "TAX CLASS AT TIME OF SALE          int64\n",
       "BUILDING CLASS AT TIME OF SALE    object\n",
       "SALE PRICE                        object\n",
       "SALE DATE                         object\n",
       "dtype: object"
      ]
     },
     "execution_count": 29,
     "metadata": {},
     "output_type": "execute_result"
    }
   ],
   "source": [
    "rolling_sales_df.dtypes"
   ]
  },
  {
   "cell_type": "markdown",
   "metadata": {},
   "source": [
    "# Anzahl verschiedener Werte jeder einzelnen Spalte"
   ]
  },
  {
   "cell_type": "code",
   "execution_count": 30,
   "metadata": {},
   "outputs": [
    {
     "data": {
      "text/plain": [
       "Unnamed: 0                        26736\n",
       "BOROUGH                               5\n",
       "NEIGHBORHOOD                        254\n",
       "BUILDING CLASS CATEGORY              47\n",
       "TAX CLASS AT PRESENT                 11\n",
       "BLOCK                             11566\n",
       "LOT                                2627\n",
       "EASE-MENT                             1\n",
       "BUILDING CLASS AT PRESENT           167\n",
       "ADDRESS                           67563\n",
       "APARTMENT NUMBER                   3989\n",
       "ZIP CODE                            186\n",
       "RESIDENTIAL UNITS                   176\n",
       "COMMERCIAL UNITS                     55\n",
       "TOTAL UNITS                         192\n",
       "LAND SQUARE FEET                   6062\n",
       "GROSS SQUARE FEET                  5691\n",
       "YEAR BUILT                          158\n",
       "TAX CLASS AT TIME OF SALE             4\n",
       "BUILDING CLASS AT TIME OF SALE      166\n",
       "SALE PRICE                        10008\n",
       "SALE DATE                           364\n",
       "dtype: int64"
      ]
     },
     "execution_count": 30,
     "metadata": {},
     "output_type": "execute_result"
    }
   ],
   "source": [
    "rolling_sales_df.apply(lambda x: len(x.unique()))"
   ]
  },
  {
   "cell_type": "markdown",
   "metadata": {},
   "source": [
    "# Sale Date"
   ]
  },
  {
   "cell_type": "code",
   "execution_count": 31,
   "metadata": {},
   "outputs": [
    {
     "name": "stdout",
     "output_type": "stream",
     "text": [
      "0\n"
     ]
    }
   ],
   "source": [
    "saledate_0 = len(rolling_sales_df[rolling_sales_df[\"SALE DATE\"] == \" \"])\n",
    "print(saledate_0)"
   ]
  },
  {
   "cell_type": "code",
   "execution_count": 32,
   "metadata": {},
   "outputs": [
    {
     "name": "stdout",
     "output_type": "stream",
     "text": [
      "0\n"
     ]
    }
   ],
   "source": [
    "saledate_00 = len(rolling_sales_df[rolling_sales_df[\"SALE DATE\"] == \"\"])\n",
    "print(saledate_00)"
   ]
  },
  {
   "cell_type": "code",
   "execution_count": 33,
   "metadata": {},
   "outputs": [
    {
     "name": "stdout",
     "output_type": "stream",
     "text": [
      "0\n"
     ]
    }
   ],
   "source": [
    "saledate_000 = len(rolling_sales_df[rolling_sales_df[\"SALE DATE\"] == \"0\"])\n",
    "print(saledate_000)"
   ]
  },
  {
   "cell_type": "code",
   "execution_count": 34,
   "metadata": {},
   "outputs": [],
   "source": [
    "# keine leeren Zellen vorhanden"
   ]
  },
  {
   "cell_type": "code",
   "execution_count": 35,
   "metadata": {
    "scrolled": true
   },
   "outputs": [
    {
     "name": "stdout",
     "output_type": "stream",
     "text": [
      "Der erste Verkauf, der im vorliegenden Datensatz erfasst wurde, war am 2016-09-01 00:00:00 .\n",
      "Der letzte Verkauf, der im vorliegenden Datensatz erfasst wurde, war am 2017-08-31 00:00:00 .\n",
      "2017-06-29 00:00:00    544\n",
      "2017-06-15 00:00:00    530\n",
      "2016-12-22 00:00:00    527\n",
      "2017-05-25 00:00:00    511\n",
      "2016-10-06 00:00:00    508\n",
      "Name: SALE DATE, dtype: int64\n"
     ]
    }
   ],
   "source": [
    "saledate_min = min(rolling_sales_df['SALE DATE'])\n",
    "saledate_max = max(rolling_sales_df['SALE DATE'])\n",
    "saledate_most = rolling_sales_df['SALE DATE'].value_counts()\n",
    "print(\"Der erste Verkauf, der im vorliegenden Datensatz erfasst wurde, war am\", saledate_min, \".\")\n",
    "print(\"Der letzte Verkauf, der im vorliegenden Datensatz erfasst wurde, war am\", saledate_max, \".\")\n",
    "print(saledate_most.nlargest(5))"
   ]
  },
  {
   "cell_type": "markdown",
   "metadata": {},
   "source": [
    "# Visual Top 5 an welchen Tagen am meisten Verkauft wurde"
   ]
  },
  {
   "cell_type": "code",
   "execution_count": 36,
   "metadata": {},
   "outputs": [
    {
     "name": "stderr",
     "output_type": "stream",
     "text": [
      "C:\\Users\\Saskia Schaborak\\anaconda3\\lib\\site-packages\\pandas\\core\\ops\\array_ops.py:253: FutureWarning: elementwise comparison failed; returning scalar instead, but in the future will perform elementwise comparison\n",
      "  res_values = method(rvalues)\n"
     ]
    },
    {
     "ename": "TypeError",
     "evalue": "no numeric data to plot",
     "output_type": "error",
     "traceback": [
      "\u001b[1;31m---------------------------------------------------------------------------\u001b[0m",
      "\u001b[1;31mTypeError\u001b[0m                                 Traceback (most recent call last)",
      "\u001b[1;32m<ipython-input-36-2827cfc5478c>\u001b[0m in \u001b[0;36m<module>\u001b[1;34m\u001b[0m\n\u001b[0;32m      3\u001b[0m \u001b[0mboroughdate_vis\u001b[0m \u001b[1;33m=\u001b[0m \u001b[0mrolling_sales_df\u001b[0m\u001b[1;33m[\u001b[0m\u001b[0mrolling_sales_df\u001b[0m\u001b[1;33m[\u001b[0m\u001b[1;34m'BOROUGH'\u001b[0m\u001b[1;33m]\u001b[0m \u001b[1;33m==\u001b[0m \u001b[1;34m\"1\"\u001b[0m\u001b[1;33m]\u001b[0m\u001b[1;33m\u001b[0m\u001b[1;33m\u001b[0m\u001b[0m\n\u001b[0;32m      4\u001b[0m \u001b[0mboroughdate_vis\u001b[0m\u001b[1;33m.\u001b[0m\u001b[0mset_index\u001b[0m\u001b[1;33m(\u001b[0m\u001b[1;34m\"SALE DATE\"\u001b[0m\u001b[1;33m,\u001b[0m \u001b[0minplace\u001b[0m\u001b[1;33m=\u001b[0m\u001b[1;32mTrue\u001b[0m\u001b[1;33m)\u001b[0m\u001b[1;33m\u001b[0m\u001b[1;33m\u001b[0m\u001b[0m\n\u001b[1;32m----> 5\u001b[1;33m \u001b[0mboroughdate_vis\u001b[0m\u001b[1;33m[\u001b[0m\u001b[1;34m\"SALE PRICE\"\u001b[0m\u001b[1;33m]\u001b[0m\u001b[1;33m.\u001b[0m\u001b[0mplot\u001b[0m\u001b[1;33m(\u001b[0m\u001b[1;33m)\u001b[0m\u001b[1;33m\u001b[0m\u001b[1;33m\u001b[0m\u001b[0m\n\u001b[0m",
      "\u001b[1;32m~\\anaconda3\\lib\\site-packages\\pandas\\plotting\\_core.py\u001b[0m in \u001b[0;36m__call__\u001b[1;34m(self, *args, **kwargs)\u001b[0m\n\u001b[0;32m    845\u001b[0m                     \u001b[0mdata\u001b[0m\u001b[1;33m.\u001b[0m\u001b[0mcolumns\u001b[0m \u001b[1;33m=\u001b[0m \u001b[0mlabel_name\u001b[0m\u001b[1;33m\u001b[0m\u001b[1;33m\u001b[0m\u001b[0m\n\u001b[0;32m    846\u001b[0m \u001b[1;33m\u001b[0m\u001b[0m\n\u001b[1;32m--> 847\u001b[1;33m         \u001b[1;32mreturn\u001b[0m \u001b[0mplot_backend\u001b[0m\u001b[1;33m.\u001b[0m\u001b[0mplot\u001b[0m\u001b[1;33m(\u001b[0m\u001b[0mdata\u001b[0m\u001b[1;33m,\u001b[0m \u001b[0mkind\u001b[0m\u001b[1;33m=\u001b[0m\u001b[0mkind\u001b[0m\u001b[1;33m,\u001b[0m \u001b[1;33m**\u001b[0m\u001b[0mkwargs\u001b[0m\u001b[1;33m)\u001b[0m\u001b[1;33m\u001b[0m\u001b[1;33m\u001b[0m\u001b[0m\n\u001b[0m\u001b[0;32m    848\u001b[0m \u001b[1;33m\u001b[0m\u001b[0m\n\u001b[0;32m    849\u001b[0m     \u001b[0m__call__\u001b[0m\u001b[1;33m.\u001b[0m\u001b[0m__doc__\u001b[0m \u001b[1;33m=\u001b[0m \u001b[0m__doc__\u001b[0m\u001b[1;33m\u001b[0m\u001b[1;33m\u001b[0m\u001b[0m\n",
      "\u001b[1;32m~\\anaconda3\\lib\\site-packages\\pandas\\plotting\\_matplotlib\\__init__.py\u001b[0m in \u001b[0;36mplot\u001b[1;34m(data, kind, **kwargs)\u001b[0m\n\u001b[0;32m     59\u001b[0m             \u001b[0mkwargs\u001b[0m\u001b[1;33m[\u001b[0m\u001b[1;34m\"ax\"\u001b[0m\u001b[1;33m]\u001b[0m \u001b[1;33m=\u001b[0m \u001b[0mgetattr\u001b[0m\u001b[1;33m(\u001b[0m\u001b[0max\u001b[0m\u001b[1;33m,\u001b[0m \u001b[1;34m\"left_ax\"\u001b[0m\u001b[1;33m,\u001b[0m \u001b[0max\u001b[0m\u001b[1;33m)\u001b[0m\u001b[1;33m\u001b[0m\u001b[1;33m\u001b[0m\u001b[0m\n\u001b[0;32m     60\u001b[0m     \u001b[0mplot_obj\u001b[0m \u001b[1;33m=\u001b[0m \u001b[0mPLOT_CLASSES\u001b[0m\u001b[1;33m[\u001b[0m\u001b[0mkind\u001b[0m\u001b[1;33m]\u001b[0m\u001b[1;33m(\u001b[0m\u001b[0mdata\u001b[0m\u001b[1;33m,\u001b[0m \u001b[1;33m**\u001b[0m\u001b[0mkwargs\u001b[0m\u001b[1;33m)\u001b[0m\u001b[1;33m\u001b[0m\u001b[1;33m\u001b[0m\u001b[0m\n\u001b[1;32m---> 61\u001b[1;33m     \u001b[0mplot_obj\u001b[0m\u001b[1;33m.\u001b[0m\u001b[0mgenerate\u001b[0m\u001b[1;33m(\u001b[0m\u001b[1;33m)\u001b[0m\u001b[1;33m\u001b[0m\u001b[1;33m\u001b[0m\u001b[0m\n\u001b[0m\u001b[0;32m     62\u001b[0m     \u001b[0mplot_obj\u001b[0m\u001b[1;33m.\u001b[0m\u001b[0mdraw\u001b[0m\u001b[1;33m(\u001b[0m\u001b[1;33m)\u001b[0m\u001b[1;33m\u001b[0m\u001b[1;33m\u001b[0m\u001b[0m\n\u001b[0;32m     63\u001b[0m     \u001b[1;32mreturn\u001b[0m \u001b[0mplot_obj\u001b[0m\u001b[1;33m.\u001b[0m\u001b[0mresult\u001b[0m\u001b[1;33m\u001b[0m\u001b[1;33m\u001b[0m\u001b[0m\n",
      "\u001b[1;32m~\\anaconda3\\lib\\site-packages\\pandas\\plotting\\_matplotlib\\core.py\u001b[0m in \u001b[0;36mgenerate\u001b[1;34m(self)\u001b[0m\n\u001b[0;32m    259\u001b[0m     \u001b[1;32mdef\u001b[0m \u001b[0mgenerate\u001b[0m\u001b[1;33m(\u001b[0m\u001b[0mself\u001b[0m\u001b[1;33m)\u001b[0m\u001b[1;33m:\u001b[0m\u001b[1;33m\u001b[0m\u001b[1;33m\u001b[0m\u001b[0m\n\u001b[0;32m    260\u001b[0m         \u001b[0mself\u001b[0m\u001b[1;33m.\u001b[0m\u001b[0m_args_adjust\u001b[0m\u001b[1;33m(\u001b[0m\u001b[1;33m)\u001b[0m\u001b[1;33m\u001b[0m\u001b[1;33m\u001b[0m\u001b[0m\n\u001b[1;32m--> 261\u001b[1;33m         \u001b[0mself\u001b[0m\u001b[1;33m.\u001b[0m\u001b[0m_compute_plot_data\u001b[0m\u001b[1;33m(\u001b[0m\u001b[1;33m)\u001b[0m\u001b[1;33m\u001b[0m\u001b[1;33m\u001b[0m\u001b[0m\n\u001b[0m\u001b[0;32m    262\u001b[0m         \u001b[0mself\u001b[0m\u001b[1;33m.\u001b[0m\u001b[0m_setup_subplots\u001b[0m\u001b[1;33m(\u001b[0m\u001b[1;33m)\u001b[0m\u001b[1;33m\u001b[0m\u001b[1;33m\u001b[0m\u001b[0m\n\u001b[0;32m    263\u001b[0m         \u001b[0mself\u001b[0m\u001b[1;33m.\u001b[0m\u001b[0m_make_plot\u001b[0m\u001b[1;33m(\u001b[0m\u001b[1;33m)\u001b[0m\u001b[1;33m\u001b[0m\u001b[1;33m\u001b[0m\u001b[0m\n",
      "\u001b[1;32m~\\anaconda3\\lib\\site-packages\\pandas\\plotting\\_matplotlib\\core.py\u001b[0m in \u001b[0;36m_compute_plot_data\u001b[1;34m(self)\u001b[0m\n\u001b[0;32m    408\u001b[0m         \u001b[1;31m# no non-numeric frames or series allowed\u001b[0m\u001b[1;33m\u001b[0m\u001b[1;33m\u001b[0m\u001b[1;33m\u001b[0m\u001b[0m\n\u001b[0;32m    409\u001b[0m         \u001b[1;32mif\u001b[0m \u001b[0mis_empty\u001b[0m\u001b[1;33m:\u001b[0m\u001b[1;33m\u001b[0m\u001b[1;33m\u001b[0m\u001b[0m\n\u001b[1;32m--> 410\u001b[1;33m             \u001b[1;32mraise\u001b[0m \u001b[0mTypeError\u001b[0m\u001b[1;33m(\u001b[0m\u001b[1;34m\"no numeric data to plot\"\u001b[0m\u001b[1;33m)\u001b[0m\u001b[1;33m\u001b[0m\u001b[1;33m\u001b[0m\u001b[0m\n\u001b[0m\u001b[0;32m    411\u001b[0m \u001b[1;33m\u001b[0m\u001b[0m\n\u001b[0;32m    412\u001b[0m         \u001b[1;31m# GH25587: cast ExtensionArray of pandas (IntegerArray, etc.) to\u001b[0m\u001b[1;33m\u001b[0m\u001b[1;33m\u001b[0m\u001b[1;33m\u001b[0m\u001b[0m\n",
      "\u001b[1;31mTypeError\u001b[0m: no numeric data to plot"
     ]
    }
   ],
   "source": [
    "from matplotlib import pyplot as plt\n",
    "\n",
    "boroughdate_vis = rolling_sales_df[rolling_sales_df['BOROUGH'] == \"1\"]\n",
    "boroughdate_vis.set_index(\"SALE DATE\", inplace=True)\n",
    "boroughdate_vis[\"SALE PRICE\"].plot()"
   ]
  },
  {
   "cell_type": "code",
   "execution_count": null,
   "metadata": {},
   "outputs": [],
   "source": []
  },
  {
   "cell_type": "code",
   "execution_count": null,
   "metadata": {},
   "outputs": [],
   "source": []
  },
  {
   "cell_type": "code",
   "execution_count": null,
   "metadata": {},
   "outputs": [],
   "source": []
  },
  {
   "cell_type": "code",
   "execution_count": null,
   "metadata": {},
   "outputs": [],
   "source": []
  },
  {
   "cell_type": "markdown",
   "metadata": {},
   "source": [
    "# Wann wurde wo am meisten verkauft?"
   ]
  },
  {
   "cell_type": "code",
   "execution_count": 37,
   "metadata": {},
   "outputs": [
    {
     "data": {
      "text/plain": [
       "1    164\n",
       "4    142\n",
       "3    133\n",
       "2     64\n",
       "5     41\n",
       "Name: BOROUGH, dtype: int64"
      ]
     },
     "execution_count": 37,
     "metadata": {},
     "output_type": "execute_result"
    }
   ],
   "source": [
    "saledate_location = rolling_sales_df['SALE DATE'] == \"2017-06-29 00:00:00\"\n",
    "rolling_sales_df.loc[saledate_location]['BOROUGH'].value_counts()\n",
    "\n",
    "# Am 2017-06-29 wurden in Borough 4 am meisten Gebäude verkauft."
   ]
  },
  {
   "cell_type": "code",
   "execution_count": 38,
   "metadata": {},
   "outputs": [
    {
     "data": {
      "text/plain": [
       "5    144\n",
       "4    128\n",
       "3    115\n",
       "1    104\n",
       "2     39\n",
       "Name: BOROUGH, dtype: int64"
      ]
     },
     "execution_count": 38,
     "metadata": {},
     "output_type": "execute_result"
    }
   ],
   "source": [
    "saledate_location = rolling_sales_df['SALE DATE'] == \"2017-06-15 00:00:00\"\n",
    "rolling_sales_df.loc[saledate_location]['BOROUGH'].value_counts()\n",
    "\n",
    "# Am 2017-06-15 wurden in Borough 5 am meisten Gebäude verkauft."
   ]
  },
  {
   "cell_type": "code",
   "execution_count": 39,
   "metadata": {},
   "outputs": [
    {
     "data": {
      "text/plain": [
       "3    175\n",
       "4    160\n",
       "1    106\n",
       "2     47\n",
       "5     39\n",
       "Name: BOROUGH, dtype: int64"
      ]
     },
     "execution_count": 39,
     "metadata": {},
     "output_type": "execute_result"
    }
   ],
   "source": [
    "saledate_location = rolling_sales_df['SALE DATE'] == \"2016-12-22 00:00:00\"\n",
    "rolling_sales_df.loc[saledate_location]['BOROUGH'].value_counts()\n",
    "\n",
    "# Am 2016-12-22 wurden in Borough 3 am meisten Gebäude verkauft."
   ]
  },
  {
   "cell_type": "code",
   "execution_count": 40,
   "metadata": {},
   "outputs": [
    {
     "data": {
      "text/plain": [
       "4    179\n",
       "3    136\n",
       "1    106\n",
       "5     54\n",
       "2     36\n",
       "Name: BOROUGH, dtype: int64"
      ]
     },
     "execution_count": 40,
     "metadata": {},
     "output_type": "execute_result"
    }
   ],
   "source": [
    "saledate_location = rolling_sales_df['SALE DATE'] == \"2017-05-25 00:00:00\"\n",
    "rolling_sales_df.loc[saledate_location]['BOROUGH'].value_counts()\n",
    "\n",
    "# Am 2017-05-25 wurden in Borough 4 am meisten Gebäude verkauft."
   ]
  },
  {
   "cell_type": "code",
   "execution_count": 41,
   "metadata": {},
   "outputs": [
    {
     "data": {
      "text/plain": [
       "3    202\n",
       "4    133\n",
       "1    106\n",
       "2     35\n",
       "5     32\n",
       "Name: BOROUGH, dtype: int64"
      ]
     },
     "execution_count": 41,
     "metadata": {},
     "output_type": "execute_result"
    }
   ],
   "source": [
    "saledate_location = rolling_sales_df['SALE DATE'] == \"2016-10-06 00:00:00\"\n",
    "rolling_sales_df.loc[saledate_location]['BOROUGH'].value_counts()\n",
    "\n",
    "# Am 201-10-06 wurden in Borough 3 am meisten Gebäude verkauft."
   ]
  },
  {
   "cell_type": "code",
   "execution_count": null,
   "metadata": {},
   "outputs": [],
   "source": []
  },
  {
   "cell_type": "code",
   "execution_count": null,
   "metadata": {},
   "outputs": [],
   "source": []
  },
  {
   "cell_type": "code",
   "execution_count": null,
   "metadata": {},
   "outputs": [],
   "source": []
  },
  {
   "cell_type": "code",
   "execution_count": null,
   "metadata": {},
   "outputs": [],
   "source": []
  },
  {
   "cell_type": "markdown",
   "metadata": {},
   "source": [
    "# Neighborhood"
   ]
  },
  {
   "cell_type": "markdown",
   "metadata": {},
   "source": [
    "## Wie viele unterschiedliche Neighborhoods gibt es?"
   ]
  },
  {
   "cell_type": "code",
   "execution_count": 42,
   "metadata": {
    "scrolled": true
   },
   "outputs": [
    {
     "name": "stdout",
     "output_type": "stream",
     "text": [
      "FLUSHING-NORTH              3068\n",
      "UPPER EAST SIDE (59-79)     1736\n",
      "UPPER EAST SIDE (79-96)     1590\n",
      "UPPER WEST SIDE (59-79)     1439\n",
      "BEDFORD STUYVESANT          1436\n",
      "                            ... \n",
      "FRESH KILLS                    2\n",
      "BRONX PARK                     1\n",
      "PELHAM BAY                     1\n",
      "CITY ISLAND-PELHAM STRIP       1\n",
      "EAST RIVER                     1\n",
      "Name: NEIGHBORHOOD, Length: 254, dtype: int64\n"
     ]
    }
   ],
   "source": [
    "# 254\n",
    "# Neighborhood = Nachbarschaft/Region/Stadtteil\n",
    "\n",
    "neighborhood_df = rolling_sales_df['NEIGHBORHOOD'].value_counts()\n",
    "print(neighborhood_df)"
   ]
  },
  {
   "cell_type": "code",
   "execution_count": null,
   "metadata": {},
   "outputs": [],
   "source": []
  },
  {
   "cell_type": "code",
   "execution_count": null,
   "metadata": {},
   "outputs": [],
   "source": []
  },
  {
   "cell_type": "code",
   "execution_count": null,
   "metadata": {},
   "outputs": [],
   "source": []
  },
  {
   "cell_type": "code",
   "execution_count": null,
   "metadata": {},
   "outputs": [],
   "source": []
  },
  {
   "cell_type": "code",
   "execution_count": null,
   "metadata": {},
   "outputs": [],
   "source": []
  },
  {
   "cell_type": "code",
   "execution_count": 43,
   "metadata": {},
   "outputs": [
    {
     "name": "stdout",
     "output_type": "stream",
     "text": [
      "0\n"
     ]
    }
   ],
   "source": [
    "neighborhood0 = len(rolling_sales_df[rolling_sales_df[\"NEIGHBORHOOD\"] == \" \"])\n",
    "print(neighborhood0)\n",
    "\n",
    "# keine leeren Zellen"
   ]
  },
  {
   "cell_type": "markdown",
   "metadata": {},
   "source": [
    "## Top 5/Last 5 Neighborhoods"
   ]
  },
  {
   "cell_type": "code",
   "execution_count": 44,
   "metadata": {
    "scrolled": true
   },
   "outputs": [
    {
     "name": "stdout",
     "output_type": "stream",
     "text": [
      "FLUSHING-NORTH             3068\n",
      "UPPER EAST SIDE (59-79)    1736\n",
      "UPPER EAST SIDE (79-96)    1590\n",
      "UPPER WEST SIDE (59-79)    1439\n",
      "BEDFORD STUYVESANT         1436\n",
      "Name: NEIGHBORHOOD, dtype: int64\n"
     ]
    }
   ],
   "source": [
    "neighborhood_top5 = rolling_sales_df['NEIGHBORHOOD'].value_counts()\n",
    "print(neighborhood_top5.nlargest(5))"
   ]
  },
  {
   "cell_type": "code",
   "execution_count": 45,
   "metadata": {
    "scrolled": false
   },
   "outputs": [
    {
     "name": "stdout",
     "output_type": "stream",
     "text": [
      "BRONX PARK                  1\n",
      "PELHAM BAY                  1\n",
      "CITY ISLAND-PELHAM STRIP    1\n",
      "EAST RIVER                  1\n",
      "VAN CORTLANDT PARK          2\n",
      "FRESH KILLS                 2\n",
      "CO-OP CITY                  5\n",
      "DONGAN HILLS-OLD TOWN       5\n",
      "ROSSVILLE-PORT MOBIL        6\n",
      "AIRPORT LA GUARDIA          8\n",
      "Name: NEIGHBORHOOD, dtype: int64\n"
     ]
    }
   ],
   "source": [
    "neighborhood_last5 = rolling_sales_df['NEIGHBORHOOD'].value_counts()\n",
    "print(neighborhood_last5.nsmallest(10))"
   ]
  },
  {
   "cell_type": "markdown",
   "metadata": {},
   "source": [
    "# Visual Top 5 Neighborhoods"
   ]
  },
  {
   "cell_type": "code",
   "execution_count": 95,
   "metadata": {},
   "outputs": [],
   "source": [
    "import matplotlib.pyplot as plt\n",
    "import numpy as np\n",
    "import pandas as pd"
   ]
  },
  {
   "cell_type": "code",
   "execution_count": null,
   "metadata": {},
   "outputs": [],
   "source": []
  },
  {
   "cell_type": "code",
   "execution_count": null,
   "metadata": {},
   "outputs": [],
   "source": []
  },
  {
   "cell_type": "code",
   "execution_count": null,
   "metadata": {},
   "outputs": [],
   "source": []
  },
  {
   "cell_type": "code",
   "execution_count": null,
   "metadata": {},
   "outputs": [],
   "source": []
  },
  {
   "cell_type": "markdown",
   "metadata": {},
   "source": [
    "# Building Class Category"
   ]
  },
  {
   "cell_type": "code",
   "execution_count": 47,
   "metadata": {},
   "outputs": [],
   "source": [
    "# Immobilienart (z.B. Einfamilienhaus)"
   ]
  },
  {
   "cell_type": "markdown",
   "metadata": {},
   "source": [
    "## Welche Immobilienarten gibt es und wie oft kommen Sie vor?"
   ]
  },
  {
   "cell_type": "code",
   "execution_count": 48,
   "metadata": {},
   "outputs": [
    {
     "name": "stdout",
     "output_type": "stream",
     "text": [
      "Summary: count                                           84548\n",
      "unique                                             47\n",
      "top       01 ONE FAMILY DWELLINGS                    \n",
      "freq                                            18235\n",
      "Name: BUILDING CLASS CATEGORY, dtype: object\n"
     ]
    }
   ],
   "source": [
    "print(\"Summary:\", rolling_sales_df[\"BUILDING CLASS CATEGORY\"].describe())"
   ]
  },
  {
   "cell_type": "code",
   "execution_count": 49,
   "metadata": {},
   "outputs": [
    {
     "name": "stdout",
     "output_type": "stream",
     "text": [
      "01 ONE FAMILY DWELLINGS                        18235\n",
      "02 TWO FAMILY DWELLINGS                        15828\n",
      "13 CONDOS - ELEVATOR APARTMENTS                12989\n",
      "10 COOPS - ELEVATOR APARTMENTS                 12902\n",
      "03 THREE FAMILY DWELLINGS                       4384\n",
      "Name: BUILDING CLASS CATEGORY, dtype: int64\n"
     ]
    }
   ],
   "source": [
    "buildingclass_df = rolling_sales_df['BUILDING CLASS CATEGORY'].value_counts()\n",
    "print(buildingclass_df.nlargest(5))"
   ]
  },
  {
   "cell_type": "markdown",
   "metadata": {},
   "source": [
    "# Tax Classes"
   ]
  },
  {
   "cell_type": "code",
   "execution_count": 50,
   "metadata": {
    "scrolled": true
   },
   "outputs": [
    {
     "name": "stdout",
     "output_type": "stream",
     "text": [
      "1     38633\n",
      "2     30919\n",
      "4      6140\n",
      "2A     2521\n",
      "2C     1915\n",
      "1A     1444\n",
      "1B     1234\n",
      "2B      814\n",
      "        738\n",
      "1C      186\n",
      "3         4\n",
      "Name: TAX CLASS AT PRESENT, dtype: int64\n"
     ]
    }
   ],
   "source": [
    "# Steuerklassen:\n",
    "# - Klasse 1: Umfasst die meisten Wohneigentumsbestände mit bis zu drei Einheiten (wie Ein-, Zwei- und Dreifamilienhäuser und kleine Geschäfte oder Büros mit einer oder zwei angeschlossenen Wohnungen), leere Grundstücke, die für Wohnzwecke in Zonen eingeteilt sind, und die meisten Eigentumswohnungen, die nicht mehr als drei Stockwerke haben.   \n",
    "\n",
    "# - Klasse 2: Umfasst alle anderen Immobilien, die hauptsächlich Wohnzwecken dienen, wie Genossenschaften und Eigentumswohnungen.   \n",
    "\n",
    "# - Klasse 3: Umfasst Immobilien mit Geräten, die einem Gas-, Telefon- oder Elektrizitätsunternehmen gehören.   \n",
    "\n",
    "# - Klasse 4: Umfasst alle anderen Immobilien, die nicht in den Klassen 1, 2 und 3 enthalten sind, wie z.B. Büros, Fabriken, Lagerhäuser, Garagengebäude usw. \n",
    "    \n",
    "tax_classes = rolling_sales_df['TAX CLASS AT PRESENT'].value_counts()\n",
    "print(tax_classes)"
   ]
  },
  {
   "cell_type": "code",
   "execution_count": 92,
   "metadata": {},
   "outputs": [
    {
     "data": {
      "image/png": "[encoded data removed]",
      "text/plain": [
       "<Figure size 432x288 with 1 Axes>"
      ]
     },
     "metadata": {},
     "output_type": "display_data"
    }
   ],
   "source": [
    "import pandas as pd\n",
    "import matplotlib.pyplot as plt \n",
    "\n",
    "values = [TaxClass1, TaxClass2, TaxClass3, TaxClass4]\n",
    "labels = ['Tax Class 1', 'Tax Class 2', 'Tax Class 3', 'Tax Class 4']\n",
    "exp = [.01, .01, .01, .01]\n",
    "\n",
    "\n",
    "plt.pie(values, labels = labels, explode = exp, autopct='%.1f %%', pctdistance=0.7)\n",
    "\n",
    "plt.title('Verteilung der Tax Classes')\n",
    "\n",
    "plt.show()"
   ]
  },
  {
   "cell_type": "markdown",
   "metadata": {},
   "source": [
    "## Tax Class 1"
   ]
  },
  {
   "cell_type": "code",
   "execution_count": 91,
   "metadata": {},
   "outputs": [
    {
     "name": "stdout",
     "output_type": "stream",
     "text": [
      "1186\n",
      "1186 %\n",
      "1 % der Verkäufe (= 1186 ), sind Ein-, Zwei- und/oder Dreifamilienhäuser.\n"
     ]
    }
   ],
   "source": [
    "taxclass_1 = len(rolling_sales_df[rolling_sales_df[\"TAX CLASS AT PRESENT\"] == \"1\"])\n",
    "taxclass_1A = len(rolling_sales_df[rolling_sales_df[\"TAX CLASS AT PRESENT\"] == \"1A\"])\n",
    "taxclass_1B = len(rolling_sales_df[rolling_sales_df[\"TAX CLASS AT PRESENT\"] == \"1B\"])\n",
    "taxclass_1C = len(rolling_sales_df[rolling_sales_df[\"TAX CLASS AT PRESENT\"] == \"1C\"])\n",
    "TaxClass1 = taxclass_1 + taxclass_1A + taxclass_1B + taxclass_1C\n",
    "taxclass1proz = TaxClass1 /N*100\n",
    "print(TaxClass1)\n",
    "print(int(TaxClass1), \"%\")\n",
    "print(int(taxclass1proz), \"% der Verkäufe (=\", TaxClass1, \"), sind Ein-, Zwei- und/oder Dreifamilienhäuser.\")\n"
   ]
  },
  {
   "cell_type": "markdown",
   "metadata": {},
   "source": [
    "## Tax Class 2"
   ]
  },
  {
   "cell_type": "code",
   "execution_count": 97,
   "metadata": {},
   "outputs": [
    {
     "name": "stdout",
     "output_type": "stream",
     "text": [
      "1205\n",
      "1 %\n",
      "1 % der Verkäufe (= 1205 ), sind Immobilien, die hauptsächlich Wohnzwecken dienen, wie Genossenschaften und Eigentumswohnungen.\n"
     ]
    }
   ],
   "source": [
    "taxclass_2 = len(rolling_sales_df[rolling_sales_df[\"TAX CLASS AT PRESENT\"] == \"2\"])\n",
    "taxclass_2A = len(rolling_sales_df[rolling_sales_df[\"TAX CLASS AT PRESENT\"] == \"2A\"])\n",
    "taxclass_2B = len(rolling_sales_df[rolling_sales_df[\"TAX CLASS AT PRESENT\"] == \"2B\"])\n",
    "taxclass_2C = len(rolling_sales_df[rolling_sales_df[\"TAX CLASS AT PRESENT\"] == \"2C\"])\n",
    "TaxClass2gesamt = taxclass_2 + taxclass_2A + taxclass_2B + taxclass_2C\n",
    "taxclass2proz = TaxClass2gesamt/N*100\n",
    "print(TaxClass2gesamt)\n",
    "print(int(taxclass2proz), \"%\")\n",
    "print(int(taxclass2proz), \"% der Verkäufe (=\", TaxClass2gesamt, \"), sind Immobilien, die hauptsächlich Wohnzwecken dienen, wie Genossenschaften und Eigentumswohnungen.\")"
   ]
  },
  {
   "cell_type": "markdown",
   "metadata": {},
   "source": [
    "## Tax Class 3"
   ]
  },
  {
   "cell_type": "code",
   "execution_count": 98,
   "metadata": {},
   "outputs": [
    {
     "name": "stdout",
     "output_type": "stream",
     "text": [
      "0\n",
      "0 %\n",
      "Weniger als 1% (= 0 ) der Verkäufe umfasst Immobilien mit Geräten, die einem Gas-, Telefon- oder Elektrizitätsunternehmen gehören.\n"
     ]
    }
   ],
   "source": [
    "TaxClass3 = len(rolling_sales_df[rolling_sales_df[\"TAX CLASS AT PRESENT\"] == \"3\"])\n",
    "taxclass3proz = TaxClass3/N*100\n",
    "print(TaxClass3)\n",
    "print(int(taxclass3proz), \"%\")\n",
    "print(\"Weniger als 1% (=\", TaxClass3, \") der Verkäufe umfasst Immobilien mit Geräten, die einem Gas-, Telefon- oder Elektrizitätsunternehmen gehören.\")"
   ]
  },
  {
   "cell_type": "markdown",
   "metadata": {},
   "source": [
    "## Tax Class 4"
   ]
  },
  {
   "cell_type": "code",
   "execution_count": 101,
   "metadata": {},
   "outputs": [
    {
     "name": "stdout",
     "output_type": "stream",
     "text": [
      "324\n",
      "0 %\n",
      "0 % der Verkäufe (= 324 ), umfasst alle anderen Immobilien, die nicht in den Klassen 1, 2 und 3 enthalten sind, wie z.B. Büros, Fabriken, Lagerhäuser, Garagengebäude usw.\n"
     ]
    }
   ],
   "source": [
    "TaxClass4 = len(rolling_sales_df[rolling_sales_df[\"TAX CLASS AT PRESENT\"] == \"4\"])\n",
    "taxclass4proz = TaxClass4/N*100\n",
    "print(TaxClass4)\n",
    "print(int(taxclass4proz), \"%\")\n",
    "print(int(taxclass4proz), \"% der Verkäufe (=\", TaxClass4, \"), umfasst alle anderen Immobilien, die nicht in den Klassen 1, 2 und 3 enthalten sind, wie z.B. Büros, Fabriken, Lagerhäuser, Garagengebäude usw.\")"
   ]
  },
  {
   "cell_type": "markdown",
   "metadata": {},
   "source": [
    "## Ohne Tax Class"
   ]
  },
  {
   "cell_type": "code",
   "execution_count": 56,
   "metadata": {},
   "outputs": [
    {
     "name": "stdout",
     "output_type": "stream",
     "text": [
      "738\n",
      "738 Datensätze sind ohne Tax Class versehen.\n"
     ]
    }
   ],
   "source": [
    "taxclass0 = len(rolling_sales_df[rolling_sales_df[\"TAX CLASS AT PRESENT\"] == \" \"])\n",
    "print(taxclass0)\n",
    "print(taxclass0, \"Datensätze sind ohne Tax Class versehen.\")"
   ]
  },
  {
   "cell_type": "markdown",
   "metadata": {},
   "source": [
    "# Baujahr (Year Built)"
   ]
  },
  {
   "cell_type": "code",
   "execution_count": 57,
   "metadata": {},
   "outputs": [
    {
     "name": "stdout",
     "output_type": "stream",
     "text": [
      "Summary: count    84548.000000\n",
      "mean      1789.322976\n",
      "std        537.344993\n",
      "min          0.000000\n",
      "25%       1920.000000\n",
      "50%       1940.000000\n",
      "75%       1965.000000\n",
      "max       2017.000000\n",
      "Name: YEAR BUILT, dtype: float64\n"
     ]
    }
   ],
   "source": [
    "print(\"Summary:\", rolling_sales_df[\"YEAR BUILT\"].describe())"
   ]
  },
  {
   "cell_type": "code",
   "execution_count": 103,
   "metadata": {},
   "outputs": [
    {
     "data": {
      "image/png": "[encoded data removed]",
      "text/plain": [
       "<Figure size 432x288 with 1 Axes>"
      ]
     },
     "metadata": {
      "needs_background": "light"
     },
     "output_type": "display_data"
    }
   ],
   "source": [
    "import pandas as pd\n",
    "import matplotlib.pyplot as plt \n",
    "\n",
    "labels = ['17. Jh.', '18. Jh.', '19. Jh.', '20. Jh.', '21. Jh.']\n",
    "values = [yearbuilt_17th, yearbuilt_18th, yearbuilt_19th, yearbuilt_20th, yearbuilt_21st,]\n",
    "\n",
    "plt.title('Anzahl der errichteten Gebäude - kategorisiert nach Jahrhundert')\n",
    "\n",
    "plt.bar(labels, values)\n",
    "plt.show()\n"
   ]
  },
  {
   "cell_type": "code",
   "execution_count": null,
   "metadata": {},
   "outputs": [],
   "source": []
  },
  {
   "cell_type": "code",
   "execution_count": null,
   "metadata": {},
   "outputs": [],
   "source": []
  },
  {
   "cell_type": "code",
   "execution_count": null,
   "metadata": {},
   "outputs": [],
   "source": []
  },
  {
   "cell_type": "markdown",
   "metadata": {},
   "source": [
    "## Ohne Jahr"
   ]
  },
  {
   "cell_type": "code",
   "execution_count": 59,
   "metadata": {},
   "outputs": [
    {
     "name": "stdout",
     "output_type": "stream",
     "text": [
      "6970\n",
      "1\n",
      "77577\n"
     ]
    }
   ],
   "source": [
    "rolling_sales_df['YEAR BUILT'] = rolling_sales_df['YEAR BUILT'].replace(np.nan, 0)\n",
    "\n",
    "yearbuilt_ohneJahr = len(rolling_sales_df[rolling_sales_df[\"YEAR BUILT\"] == 0])\n",
    "yearbuilt_unplausibel = len(rolling_sales_df[rolling_sales_df[\"YEAR BUILT\"] == 1111])\n",
    "yearbuilt_mitJahr = N - yearbuilt_ohneJahr - yearbuilt_unplausibel\n",
    "print(yearbuilt_ohneJahr)\n",
    "print(int(yearbuilt_unplausibel))\n",
    "print(yearbuilt_mitJahr)"
   ]
  },
  {
   "cell_type": "code",
   "execution_count": 60,
   "metadata": {},
   "outputs": [
    {
     "data": {
      "image/png": "[encoded data removed]",
      "text/plain": [
       "<Figure size 432x288 with 1 Axes>"
      ]
     },
     "metadata": {},
     "output_type": "display_data"
    }
   ],
   "source": [
    "import matplotlib.pyplot as pd\n",
    "\n",
    "values = [yearbuilt_ohneJahr, yearbuilt_unplausibel, yearbuilt_mitJahr]\n",
    "labels = ['Ohne Jahr', 'Unplausibel', 'Mit Jahr']\n",
    "exp = [0, 0, 0.1]\n",
    "plt.title('Unplausible, fehlende und vorhandene Baujahre')\n",
    "plt.pie(values, labels = labels, explode = exp, autopct = '%2.1f%%')\n",
    "plt.show()\n"
   ]
  },
  {
   "cell_type": "code",
   "execution_count": 61,
   "metadata": {},
   "outputs": [
    {
     "name": "stdout",
     "output_type": "stream",
     "text": [
      "77578\n"
     ]
    }
   ],
   "source": [
    "rolling_sales_df['YEAR BUILT'] = rolling_sales_df['YEAR BUILT'].replace(np.nan, 0)\n",
    "yearbuilt_mitJahr = len(rolling_sales_df[rolling_sales_df[\"YEAR BUILT\"] != 0])\n",
    "print(yearbuilt_mitJahr)"
   ]
  },
  {
   "cell_type": "markdown",
   "metadata": {},
   "source": [
    "## Wie viele unterschiedliche Baujahre gibt es?"
   ]
  },
  {
   "cell_type": "code",
   "execution_count": 62,
   "metadata": {
    "scrolled": false
   },
   "outputs": [
    {
     "name": "stdout",
     "output_type": "stream",
     "text": [
      "YEAR BUILT\n",
      "0       6970\n",
      "1111       1\n",
      "1680       1\n",
      "1800      37\n",
      "1826       1\n",
      "        ... \n",
      "2013     743\n",
      "2014    1232\n",
      "2015    1470\n",
      "2016     794\n",
      "2017       6\n",
      "Length: 158, dtype: int64\n"
     ]
    }
   ],
   "source": [
    "yearbuilt = rolling_sales_df.groupby(['YEAR BUILT']).size()\n",
    "print(yearbuilt)\n",
    "\n",
    "# 158 unterschiedliche Baujahre"
   ]
  },
  {
   "cell_type": "code",
   "execution_count": 63,
   "metadata": {},
   "outputs": [
    {
     "name": "stdout",
     "output_type": "stream",
     "text": [
      "0       6970\n",
      "1920    6045\n",
      "1930    5043\n",
      "1925    4312\n",
      "1910    3585\n",
      "Name: YEAR BUILT, dtype: int64\n"
     ]
    }
   ],
   "source": [
    "yearbuilt_top = rolling_sales_df['YEAR BUILT'].value_counts()\n",
    "print(yearbuilt_top.nlargest(5))"
   ]
  },
  {
   "cell_type": "markdown",
   "metadata": {},
   "source": [
    "## Neuestes Gebäude"
   ]
  },
  {
   "cell_type": "code",
   "execution_count": 64,
   "metadata": {},
   "outputs": [
    {
     "name": "stdout",
     "output_type": "stream",
     "text": [
      "Das neueste Gebäude wurde im Jahr 2017 gebaut.\n"
     ]
    }
   ],
   "source": [
    "yearbuilt_new = rolling_sales_df[\"YEAR BUILT\"].max()\n",
    "print(\"Das neueste Gebäude wurde im Jahr\", int(yearbuilt_new), \"gebaut.\")"
   ]
  },
  {
   "cell_type": "code",
   "execution_count": 65,
   "metadata": {},
   "outputs": [
    {
     "name": "stdout",
     "output_type": "stream",
     "text": [
      "6\n",
      "2017 wurden 6 Gebäude errichtet.\n"
     ]
    }
   ],
   "source": [
    "yearbuilt2017 = len(rolling_sales_df[rolling_sales_df[\"YEAR BUILT\"] == 2017])\n",
    "print(yearbuilt2017)\n",
    "print(\"2017 wurden\", yearbuilt2017, \"Gebäude errichtet.\")"
   ]
  },
  {
   "cell_type": "markdown",
   "metadata": {},
   "source": [
    "## Ältestes Gebäude"
   ]
  },
  {
   "cell_type": "markdown",
   "metadata": {},
   "source": [
    "### Jahr 0 als NaN-Wert ausgeben"
   ]
  },
  {
   "cell_type": "code",
   "execution_count": 66,
   "metadata": {},
   "outputs": [],
   "source": [
    "rolling_sales_df.loc[rolling_sales_df['YEAR BUILT'] == 0,:'YEAR BUILT'] = np.NaN"
   ]
  },
  {
   "cell_type": "code",
   "execution_count": 67,
   "metadata": {},
   "outputs": [
    {
     "name": "stdout",
     "output_type": "stream",
     "text": [
      "Das älteste Gebäude wurde im Jahr 1111 gebaut.\n"
     ]
    }
   ],
   "source": [
    "yearbuilt_old = rolling_sales_df[\"YEAR BUILT\"].min()\n",
    "print(\"Das älteste Gebäude wurde im Jahr\", int(yearbuilt_old), \"gebaut.\")\n",
    "\n",
    "# Sinnhaftigkeit ? Da NY erst 16xx erbaut --> Domi?"
   ]
  },
  {
   "cell_type": "markdown",
   "metadata": {},
   "source": [
    "## Anzahl Gebäude 17. Jahrhundert"
   ]
  },
  {
   "cell_type": "code",
   "execution_count": 102,
   "metadata": {},
   "outputs": [
    {
     "name": "stdout",
     "output_type": "stream",
     "text": [
      "Im 17. Jahrhundert wurde(n) 1 Gebäude erbaut.\n"
     ]
    }
   ],
   "source": [
    "yearbuilt_17th = len(rolling_sales_df[rolling_sales_df['YEAR BUILT'].between(1600, 1700, inclusive=False)])\n",
    "print(\"Im 17. Jahrhundert wurde(n)\", yearbuilt_17th, \"Gebäude erbaut.\")\n",
    "\n",
    "# The inclusive parameter determines if the endpoints are included or not (True: <=, False: <)."
   ]
  },
  {
   "cell_type": "markdown",
   "metadata": {},
   "source": [
    "## Anzahl Gebäude 18. Jahrhundert"
   ]
  },
  {
   "cell_type": "code",
   "execution_count": 69,
   "metadata": {},
   "outputs": [
    {
     "name": "stdout",
     "output_type": "stream",
     "text": [
      "Im 18. Jahrhundert wurde(n) 0 Gebäude erbaut.\n"
     ]
    }
   ],
   "source": [
    "yearbuilt_18th = len(rolling_sales_df[rolling_sales_df['YEAR BUILT'].between(1700, 1800, inclusive=False)])\n",
    "print(\"Im 18. Jahrhundert wurde(n)\", yearbuilt_18th, \"Gebäude erbaut.\")"
   ]
  },
  {
   "cell_type": "markdown",
   "metadata": {},
   "source": [
    "## Anzahl Gebäude 19. Jahrhundert"
   ]
  },
  {
   "cell_type": "code",
   "execution_count": 70,
   "metadata": {},
   "outputs": [
    {
     "name": "stdout",
     "output_type": "stream",
     "text": [
      "Im 19. Jahrhundert wurde(n) 2021 Gebäude erbaut.\n"
     ]
    }
   ],
   "source": [
    "yearbuilt_19th = len(rolling_sales_df[rolling_sales_df['YEAR BUILT'].between(1800, 1900, inclusive=False)])\n",
    "print(\"Im 19. Jahrhundert wurde(n)\", yearbuilt_19th, \"Gebäude erbaut.\")"
   ]
  },
  {
   "cell_type": "markdown",
   "metadata": {},
   "source": [
    "## Anzahl Gebäude 20. Jahrhundert"
   ]
  },
  {
   "cell_type": "code",
   "execution_count": 71,
   "metadata": {},
   "outputs": [
    {
     "name": "stdout",
     "output_type": "stream",
     "text": [
      "Im 20. Jahrhundert wurde(n) 62444 Gebäude erbaut.\n"
     ]
    }
   ],
   "source": [
    "yearbuilt_20th = len(rolling_sales_df[rolling_sales_df['YEAR BUILT'].between(1900, 2000, inclusive=False)])\n",
    "print(\"Im 20. Jahrhundert wurde(n)\", yearbuilt_20th, \"Gebäude erbaut.\")"
   ]
  },
  {
   "cell_type": "markdown",
   "metadata": {},
   "source": [
    "## Anzahl Gebäude 21. Jahrhundert"
   ]
  },
  {
   "cell_type": "code",
   "execution_count": 72,
   "metadata": {},
   "outputs": [
    {
     "name": "stdout",
     "output_type": "stream",
     "text": [
      "Im 21. Jahrhundert wurde(n) 11718 Gebäude erbaut.\n"
     ]
    }
   ],
   "source": [
    "yearbuilt_21st = len(rolling_sales_df[rolling_sales_df['YEAR BUILT'].between(2000, 2100, inclusive=False)])\n",
    "print(\"Im 21. Jahrhundert wurde(n)\", yearbuilt_21st, \"Gebäude erbaut.\")"
   ]
  },
  {
   "cell_type": "markdown",
   "metadata": {},
   "source": [
    "## Durschnitt des Baujahrs"
   ]
  },
  {
   "cell_type": "code",
   "execution_count": 73,
   "metadata": {},
   "outputs": [
    {
     "name": "stdout",
     "output_type": "stream",
     "text": [
      "Das Durchschnittsbaujahr ist 1950 .\n"
     ]
    }
   ],
   "source": [
    "rolling_sales_df.loc[rolling_sales_df['YEAR BUILT'] == 0,:'YEAR BUILT'] = np.NaN\n",
    "yearbuilt_mean = rolling_sales_df['YEAR BUILT'].mean()\n",
    "print(\"Das Durchschnittsbaujahr ist\", int(yearbuilt_mean),\".\")"
   ]
  },
  {
   "cell_type": "markdown",
   "metadata": {},
   "source": [
    "# Residential Units"
   ]
  },
  {
   "cell_type": "code",
   "execution_count": 74,
   "metadata": {},
   "outputs": [
    {
     "name": "stdout",
     "output_type": "stream",
     "text": [
      "167416.0\n"
     ]
    }
   ],
   "source": [
    "residentialunits = rolling_sales_df['RESIDENTIAL UNITS'].sum()\n",
    "print(residentialunits)"
   ]
  },
  {
   "cell_type": "code",
   "execution_count": 105,
   "metadata": {
    "scrolled": true
   },
   "outputs": [
    {
     "data": {
      "image/png": "[encoded data removed]",
      "text/plain": [
       "<Figure size 432x288 with 1 Axes>"
      ]
     },
     "metadata": {},
     "output_type": "display_data"
    }
   ],
   "source": [
    "import pandas as pd\n",
    "import matplotlib.pyplot as plt \n",
    "\n",
    "values = [residentialunits, commercialunits]\n",
    "labels = ['Residential Units', 'Commercial Units']\n",
    "exp = [0.01, 0.01]\n",
    "\n",
    "\n",
    "plt.pie(values, labels = labels, explode = exp, autopct = '%2.1f%%')\n",
    "\n",
    "plt.title('Verteilung der Units')\n",
    "\n",
    "plt.show()"
   ]
  },
  {
   "cell_type": "code",
   "execution_count": 76,
   "metadata": {},
   "outputs": [
    {
     "data": {
      "image/png": "[encoded data removed]",
      "text/plain": [
       "<Figure size 432x288 with 1 Axes>"
      ]
     },
     "metadata": {},
     "output_type": "display_data"
    }
   ],
   "source": [
    "import pandas as pd\n",
    "import matplotlib.pyplot as plt \n",
    "\n",
    "values = [TaxClass1, TaxClass2, TaxClass3, TaxClass4]\n",
    "labels = ['Tax Class 1', 'Tax Class 2', 'Tax Class 3', 'Tax Class 4']\n",
    "exp = [.01, .01, .01, .01]\n",
    "\n",
    "\n",
    "plt.pie(values, labels = labels, explode = exp, autopct='%.1f %%', pctdistance=0.7)\n",
    "\n",
    "plt.title('Verteilung der Tax Classes')\n",
    "\n",
    "plt.show()"
   ]
  },
  {
   "cell_type": "code",
   "execution_count": 77,
   "metadata": {},
   "outputs": [
    {
     "name": "stdout",
     "output_type": "stream",
     "text": [
      "28239 Verkäufe haben keine Anzahl der Wohneinheiten angegeben.\n"
     ]
    }
   ],
   "source": [
    "# = Die Anzahl der Wohneinheiten auf dem gelisteten Grundstück. \n",
    "\n",
    "rolling_sales_df['RESIDENTIAL UNITS'] = rolling_sales_df['RESIDENTIAL UNITS'].replace(np.nan, 0)\n",
    "\n",
    "residential = len(rolling_sales_df[rolling_sales_df[\"RESIDENTIAL UNITS\"] == 0])\n",
    "print(residential, \"Verkäufe haben keine Anzahl der Wohneinheiten angegeben.\")"
   ]
  },
  {
   "cell_type": "markdown",
   "metadata": {},
   "source": [
    "## Residential Units Max"
   ]
  },
  {
   "cell_type": "code",
   "execution_count": 78,
   "metadata": {},
   "outputs": [
    {
     "name": "stdout",
     "output_type": "stream",
     "text": [
      "1844\n"
     ]
    }
   ],
   "source": [
    "rolling_sales_df.loc[rolling_sales_df['RESIDENTIAL UNITS'] == 0,:'RESIDENTIAL UNITS'] = np.NaN\n",
    "\n",
    "residential_max = rolling_sales_df['RESIDENTIAL UNITS'].max(skipna=True)\n",
    "print(int(residential_max))"
   ]
  },
  {
   "cell_type": "code",
   "execution_count": 79,
   "metadata": {},
   "outputs": [
    {
     "data": {
      "text/plain": [
       "4.0    2\n",
       "Name: BOROUGH, dtype: int64"
      ]
     },
     "execution_count": 79,
     "metadata": {},
     "output_type": "execute_result"
    }
   ],
   "source": [
    "residential_most_borough = rolling_sales_df['RESIDENTIAL UNITS'] == 1844\n",
    "rolling_sales_df.loc[residential_most_borough]['BOROUGH'].value_counts()\n",
    "\n",
    "# Zwei Gebäude haben in Bororugh 4 1844 Wohneinheiten."
   ]
  },
  {
   "cell_type": "markdown",
   "metadata": {},
   "source": [
    "## Residential Units Min"
   ]
  },
  {
   "cell_type": "code",
   "execution_count": 80,
   "metadata": {},
   "outputs": [
    {
     "name": "stdout",
     "output_type": "stream",
     "text": [
      "1\n"
     ]
    }
   ],
   "source": [
    "rolling_sales_df.loc[rolling_sales_df['RESIDENTIAL UNITS'] == 0,:'RESIDENTIAL UNITS'] = np.NaN\n",
    "\n",
    "residential_min = rolling_sales_df['RESIDENTIAL UNITS'].min(skipna=True)\n",
    "print(int(residential_min))"
   ]
  },
  {
   "cell_type": "markdown",
   "metadata": {},
   "source": [
    "## Residential Mean"
   ]
  },
  {
   "cell_type": "code",
   "execution_count": 81,
   "metadata": {},
   "outputs": [
    {
     "name": "stdout",
     "output_type": "stream",
     "text": [
      "Durchschnittlich sind 2 Wohneinheiten auf einem Grundstück.\n"
     ]
    }
   ],
   "source": [
    "rolling_sales_df.loc[rolling_sales_df['RESIDENTIAL UNITS'] == 0,:'RESIDENTIAL UNITS'] = np.NaN\n",
    "\n",
    "residential_mean = rolling_sales_df['RESIDENTIAL UNITS'].mean()\n",
    "print(\"Durchschnittlich sind\", int(residential_mean), \"Wohneinheiten auf einem Grundstück.\")"
   ]
  },
  {
   "cell_type": "code",
   "execution_count": 82,
   "metadata": {},
   "outputs": [
    {
     "data": {
      "text/html": [
       "<div>\n",
       "<style scoped>\n",
       "    .dataframe tbody tr th:only-of-type {\n",
       "        vertical-align: middle;\n",
       "    }\n",
       "\n",
       "    .dataframe tbody tr th {\n",
       "        vertical-align: top;\n",
       "    }\n",
       "\n",
       "    .dataframe thead th {\n",
       "        text-align: right;\n",
       "    }\n",
       "</style>\n",
       "<table border=\"1\" class=\"dataframe\">\n",
       "  <thead>\n",
       "    <tr style=\"text-align: right;\">\n",
       "      <th></th>\n",
       "      <th>Unnamed: 0</th>\n",
       "      <th>BLOCK</th>\n",
       "      <th>LOT</th>\n",
       "      <th>ZIP CODE</th>\n",
       "      <th>RESIDENTIAL UNITS</th>\n",
       "      <th>COMMERCIAL UNITS</th>\n",
       "      <th>TOTAL UNITS</th>\n",
       "      <th>YEAR BUILT</th>\n",
       "      <th>TAX CLASS AT TIME OF SALE</th>\n",
       "    </tr>\n",
       "    <tr>\n",
       "      <th>BOROUGH</th>\n",
       "      <th></th>\n",
       "      <th></th>\n",
       "      <th></th>\n",
       "      <th></th>\n",
       "      <th></th>\n",
       "      <th></th>\n",
       "      <th></th>\n",
       "      <th></th>\n",
       "      <th></th>\n",
       "    </tr>\n",
       "  </thead>\n",
       "  <tbody>\n",
       "    <tr>\n",
       "      <th>1.0</th>\n",
       "      <td>8225.099411</td>\n",
       "      <td>1050.842578</td>\n",
       "      <td>1124.978564</td>\n",
       "      <td>9996.577706</td>\n",
       "      <td>5.445338</td>\n",
       "      <td>0.129153</td>\n",
       "      <td>5.573419</td>\n",
       "      <td>1963.209539</td>\n",
       "      <td>1.970123</td>\n",
       "    </tr>\n",
       "    <tr>\n",
       "      <th>2.0</th>\n",
       "      <td>3512.081271</td>\n",
       "      <td>4184.033828</td>\n",
       "      <td>127.052186</td>\n",
       "      <td>10462.412954</td>\n",
       "      <td>4.920998</td>\n",
       "      <td>0.098185</td>\n",
       "      <td>5.018358</td>\n",
       "      <td>1942.721741</td>\n",
       "      <td>1.158622</td>\n",
       "    </tr>\n",
       "    <tr>\n",
       "      <th>3.0</th>\n",
       "      <td>11595.150134</td>\n",
       "      <td>4315.276881</td>\n",
       "      <td>289.170156</td>\n",
       "      <td>11219.719754</td>\n",
       "      <td>2.716388</td>\n",
       "      <td>0.094233</td>\n",
       "      <td>2.809537</td>\n",
       "      <td>1941.378587</td>\n",
       "      <td>1.320518</td>\n",
       "    </tr>\n",
       "    <tr>\n",
       "      <th>4.0</th>\n",
       "      <td>13742.830987</td>\n",
       "      <td>7308.519095</td>\n",
       "      <td>202.475912</td>\n",
       "      <td>11378.774154</td>\n",
       "      <td>2.388697</td>\n",
       "      <td>0.049397</td>\n",
       "      <td>2.437404</td>\n",
       "      <td>1946.573272</td>\n",
       "      <td>1.167844</td>\n",
       "    </tr>\n",
       "    <tr>\n",
       "      <th>5.0</th>\n",
       "      <td>4146.587250</td>\n",
       "      <td>3321.035607</td>\n",
       "      <td>212.809399</td>\n",
       "      <td>10297.453724</td>\n",
       "      <td>1.351224</td>\n",
       "      <td>0.017803</td>\n",
       "      <td>1.368111</td>\n",
       "      <td>1969.169001</td>\n",
       "      <td>1.060479</td>\n",
       "    </tr>\n",
       "  </tbody>\n",
       "</table>\n",
       "</div>"
      ],
      "text/plain": [
       "           Unnamed: 0        BLOCK          LOT      ZIP CODE  \\\n",
       "BOROUGH                                                         \n",
       "1.0       8225.099411  1050.842578  1124.978564   9996.577706   \n",
       "2.0       3512.081271  4184.033828   127.052186  10462.412954   \n",
       "3.0      11595.150134  4315.276881   289.170156  11219.719754   \n",
       "4.0      13742.830987  7308.519095   202.475912  11378.774154   \n",
       "5.0       4146.587250  3321.035607   212.809399  10297.453724   \n",
       "\n",
       "         RESIDENTIAL UNITS  COMMERCIAL UNITS  TOTAL UNITS   YEAR BUILT  \\\n",
       "BOROUGH                                                                  \n",
       "1.0               5.445338          0.129153     5.573419  1963.209539   \n",
       "2.0               4.920998          0.098185     5.018358  1942.721741   \n",
       "3.0               2.716388          0.094233     2.809537  1941.378587   \n",
       "4.0               2.388697          0.049397     2.437404  1946.573272   \n",
       "5.0               1.351224          0.017803     1.368111  1969.169001   \n",
       "\n",
       "         TAX CLASS AT TIME OF SALE  \n",
       "BOROUGH                             \n",
       "1.0                       1.970123  \n",
       "2.0                       1.158622  \n",
       "3.0                       1.320518  \n",
       "4.0                       1.167844  \n",
       "5.0                       1.060479  "
      ]
     },
     "execution_count": 82,
     "metadata": {},
     "output_type": "execute_result"
    }
   ],
   "source": [
    "rolling_sales_df.groupby('BOROUGH').mean()"
   ]
  },
  {
   "cell_type": "markdown",
   "metadata": {},
   "source": [
    "## Wo gibt es die meisten Wohneinheiten je Grundstück?"
   ]
  },
  {
   "cell_type": "code",
   "execution_count": 83,
   "metadata": {},
   "outputs": [
    {
     "name": "stdout",
     "output_type": "stream",
     "text": [
      "1.0      31279\n",
      "2.0      16047\n",
      "3.0       4603\n",
      "4.0       1346\n",
      "6.0        787\n",
      "         ...  \n",
      "948.0        1\n",
      "75.0         1\n",
      "164.0        1\n",
      "369.0        1\n",
      "135.0        1\n",
      "Name: RESIDENTIAL UNITS, Length: 175, dtype: int64\n",
      "         RESIDENTIAL UNITS\n",
      "BOROUGH                   \n",
      "1.0                40644.0\n",
      "2.0                23857.0\n",
      "3.0                47621.0\n",
      "4.0                44972.0\n",
      "5.0                10322.0\n"
     ]
    }
   ],
   "source": [
    "residential_most = rolling_sales_df['RESIDENTIAL UNITS'].value_counts()\n",
    "print(residential_most)\n",
    "residential_grouped = rolling_sales_df.groupby(['BOROUGH']).sum()\n",
    "del residential_grouped['LOT']\n",
    "del residential_grouped['BLOCK']\n",
    "del residential_grouped['ZIP CODE']\n",
    "del residential_grouped['Unnamed: 0']\n",
    "del residential_grouped['COMMERCIAL UNITS']\n",
    "del residential_grouped['TOTAL UNITS']\n",
    "del residential_grouped['YEAR BUILT']\n",
    "del residential_grouped['TAX CLASS AT TIME OF SALE']\n",
    "print(residential_grouped)\n",
    "\n",
    "\n",
    "\n",
    "\n",
    "\n"
   ]
  },
  {
   "cell_type": "markdown",
   "metadata": {},
   "source": [
    "# Commercial Units"
   ]
  },
  {
   "cell_type": "code",
   "execution_count": 104,
   "metadata": {},
   "outputs": [
    {
     "name": "stdout",
     "output_type": "stream",
     "text": [
      "16328\n"
     ]
    }
   ],
   "source": [
    "commercialunits = rolling_sales_df['COMMERCIAL UNITS'].sum()\n",
    "print(int(commercialunits))"
   ]
  },
  {
   "cell_type": "code",
   "execution_count": 85,
   "metadata": {},
   "outputs": [
    {
     "name": "stdout",
     "output_type": "stream",
     "text": [
      "72486 Verkäufe haben keine Anzahl der Gewerbeeinheiten angegeben.\n"
     ]
    }
   ],
   "source": [
    "# = Die Anzahl der Gewerbeeinheiten auf dem gelisteten Grundstück. \n",
    "\n",
    "commercial = len(rolling_sales_df[rolling_sales_df[\"COMMERCIAL UNITS\"] == 0])\n",
    "print(commercial, \"Verkäufe haben keine Anzahl der Gewerbeeinheiten angegeben.\")"
   ]
  },
  {
   "cell_type": "markdown",
   "metadata": {},
   "source": [
    "## Commercial Units Max"
   ]
  },
  {
   "cell_type": "code",
   "execution_count": 86,
   "metadata": {},
   "outputs": [
    {
     "name": "stdout",
     "output_type": "stream",
     "text": [
      "2261\n"
     ]
    }
   ],
   "source": [
    "rolling_sales_df.loc[rolling_sales_df['COMMERCIAL UNITS'] == 0,:'COMMERCIAL UNITS'] = np.NaN\n",
    "\n",
    "commercial_max = rolling_sales_df['COMMERCIAL UNITS'].max(skipna=True)\n",
    "print(int(commercial_max))"
   ]
  },
  {
   "cell_type": "code",
   "execution_count": 87,
   "metadata": {},
   "outputs": [
    {
     "data": {
      "text/plain": [
       "Series([], Name: BOROUGH, dtype: int64)"
      ]
     },
     "execution_count": 87,
     "metadata": {},
     "output_type": "execute_result"
    }
   ],
   "source": [
    "commercial_most_borough = rolling_sales_df['COMMERCIAL UNITS'] == 2261\n",
    "rolling_sales_df.loc[commercial_most_borough]['BOROUGH'].value_counts()\n",
    "\n",
    "# Ein Gebäude hat in Bororugh 4 2261 Wohneinheiten.\n"
   ]
  },
  {
   "cell_type": "markdown",
   "metadata": {},
   "source": [
    "## Commercial Units Min"
   ]
  },
  {
   "cell_type": "code",
   "execution_count": 88,
   "metadata": {},
   "outputs": [
    {
     "name": "stdout",
     "output_type": "stream",
     "text": [
      "1\n"
     ]
    }
   ],
   "source": [
    "rolling_sales_df.loc[rolling_sales_df['COMMERCIAL UNITS'] == 0,:'COMMERCIAL UNITS'] = np.NaN\n",
    "\n",
    "commercial_min = rolling_sales_df['COMMERCIAL UNITS'].min(skipna=True)\n",
    "print(int(commercial_min))"
   ]
  },
  {
   "cell_type": "markdown",
   "metadata": {},
   "source": [
    "## Commercial Units Mean"
   ]
  },
  {
   "cell_type": "code",
   "execution_count": 89,
   "metadata": {},
   "outputs": [
    {
     "name": "stdout",
     "output_type": "stream",
     "text": [
      "Durchschnittlich sind 3 Gewerbeeinheiten auf einem Grundstück.\n"
     ]
    }
   ],
   "source": [
    "rolling_sales_df.loc[rolling_sales_df['COMMERCIAL UNITS'] == 0,:'COMMERCIAL UNITS'] = np.NaN\n",
    "\n",
    "commercial_mean = rolling_sales_df['COMMERCIAL UNITS'].mean()\n",
    "print(\"Durchschnittlich sind\", int(commercial_mean), \"Gewerbeeinheiten auf einem Grundstück.\")"
   ]
  },
  {
   "cell_type": "markdown",
   "metadata": {},
   "source": [
    "## Wo gibt es die meisten Gewerbeeinheiten je Grundstück?"
   ]
  },
  {
   "cell_type": "code",
   "execution_count": 90,
   "metadata": {},
   "outputs": [
    {
     "ename": "SyntaxError",
     "evalue": "invalid syntax (<ipython-input-90-7aa57196149f>, line 17)",
     "output_type": "error",
     "traceback": [
      "\u001b[1;36m  File \u001b[1;32m\"<ipython-input-90-7aa57196149f>\"\u001b[1;36m, line \u001b[1;32m17\u001b[0m\n\u001b[1;33m    --> replace\u001b[0m\n\u001b[1;37m     ^\u001b[0m\n\u001b[1;31mSyntaxError\u001b[0m\u001b[1;31m:\u001b[0m invalid syntax\n"
     ]
    }
   ],
   "source": [
    "commercial_most = rolling_sales_df['COMMERCIAL UNITS'].value_counts()\n",
    "print(commercial_most)\n",
    "commercial_grouped = rolling_sales_df.groupby(['BOROUGH']).sum()\n",
    "del commercial_grouped['LOT']\n",
    "del commercial_grouped['BLOCK']\n",
    "del commercial_grouped['ZIP CODE']\n",
    "del commercial_grouped['Unnamed: 0']\n",
    "del commercial_grouped['COMMERCIAL UNITS']\n",
    "del commercial_grouped['TOTAL UNITS']\n",
    "del commercial_grouped['YEAR BUILT']\n",
    "del commercial_grouped['TAX CLASS AT TIME OF SALE']\n",
    "print(commercial_grouped)\n",
    "\n",
    "\n",
    "# wie bekomme ich hier Manhatten, Brooklyn, etc. zugeordnet zu 1, 2, 3, 4....?\n",
    "\n",
    "--> replace\n",
    "\n",
    "\n",
    "\n"
   ]
  },
  {
   "cell_type": "code",
   "execution_count": null,
   "metadata": {},
   "outputs": [],
   "source": []
  },
  {
   "cell_type": "code",
   "execution_count": null,
   "metadata": {},
   "outputs": [],
   "source": []
  },
  {
   "cell_type": "code",
   "execution_count": null,
   "metadata": {},
   "outputs": [],
   "source": []
  },
  {
   "cell_type": "code",
   "execution_count": null,
   "metadata": {},
   "outputs": [],
   "source": []
  },
  {
   "cell_type": "code",
   "execution_count": null,
   "metadata": {},
   "outputs": [],
   "source": []
  },
  {
   "cell_type": "code",
   "execution_count": null,
   "metadata": {},
   "outputs": [],
   "source": []
  },
  {
   "cell_type": "code",
   "execution_count": null,
   "metadata": {},
   "outputs": [],
   "source": []
  }
 ],
 "metadata": {
  "kernelspec": {
   "display_name": "Python 3",
   "language": "python",
   "name": "python3"
  },
  "language_info": {
   "codemirror_mode": {
    "name": "ipython",
    "version": 3
   },
   "file_extension": ".py",
   "mimetype": "text/x-python",
   "name": "python",
   "nbconvert_exporter": "python",
   "pygments_lexer": "ipython3",
   "version": "3.8.3"
  }
 },
 "nbformat": 4,
 "nbformat_minor": 4
}
